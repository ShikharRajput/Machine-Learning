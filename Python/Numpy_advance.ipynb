{
 "cells": [
  {
   "cell_type": "code",
   "execution_count": 3,
   "metadata": {},
   "outputs": [],
   "source": [
    "import numpy as np"
   ]
  },
  {
   "cell_type": "code",
   "execution_count": 4,
   "metadata": {},
   "outputs": [
    {
     "data": {
      "text/plain": [
       "array([ 1. ,  2.8,  4.6,  6.4,  8.2, 10. ])"
      ]
     },
     "execution_count": 4,
     "metadata": {},
     "output_type": "execute_result"
    }
   ],
   "source": [
    "#divides range into equal space\n",
    "np.linspace(1,10,6)"
   ]
  },
  {
   "cell_type": "code",
   "execution_count": 5,
   "metadata": {},
   "outputs": [
    {
     "data": {
      "text/plain": [
       "array([1.00000000e+01, 6.30957344e+02, 3.98107171e+04, 2.51188643e+06,\n",
       "       1.58489319e+08, 1.00000000e+10])"
      ]
     },
     "execution_count": 5,
     "metadata": {},
     "output_type": "execute_result"
    }
   ],
   "source": [
    "#gives log of equally divided range\n",
    "np.logspace(1,10,6)"
   ]
  },
  {
   "cell_type": "code",
   "execution_count": 10,
   "metadata": {},
   "outputs": [
    {
     "name": "stdout",
     "output_type": "stream",
     "text": [
      "[[ 2  3]\n",
      " [10 11]]\n"
     ]
    },
    {
     "data": {
      "text/plain": [
       "2"
      ]
     },
     "execution_count": 10,
     "metadata": {},
     "output_type": "execute_result"
    }
   ],
   "source": [
    "arr1 = np.array([[2,3],[10,11]])\n",
    "print(arr1)\n",
    "arr1.ndim"
   ]
  },
  {
   "cell_type": "code",
   "execution_count": 11,
   "metadata": {},
   "outputs": [
    {
     "name": "stdout",
     "output_type": "stream",
     "text": [
      "[[[[ 2  3]\n",
      "   [10 11]]]]\n"
     ]
    },
    {
     "data": {
      "text/plain": [
       "4"
      ]
     },
     "execution_count": 11,
     "metadata": {},
     "output_type": "execute_result"
    }
   ],
   "source": [
    "#dimension inc with inc in brackets\n",
    "arr1 = np.array([[[[2,3],[10,11]]]])\n",
    "print(arr1)\n",
    "arr1.ndim"
   ]
  },
  {
   "cell_type": "code",
   "execution_count": 17,
   "metadata": {},
   "outputs": [
    {
     "name": "stdout",
     "output_type": "stream",
     "text": [
      "[[[ 0  1  2]\n",
      "  [ 3  4  5]]\n",
      "\n",
      " [[ 6  7  8]\n",
      "  [ 9 10 11]]]\n"
     ]
    }
   ],
   "source": [
    "arr2 = np.arange(12).reshape(2,2,3)\n",
    "print(arr2)"
   ]
  },
  {
   "cell_type": "code",
   "execution_count": 18,
   "metadata": {},
   "outputs": [
    {
     "name": "stdout",
     "output_type": "stream",
     "text": [
      "[[[ 0  6]\n",
      "  [ 3  9]]\n",
      "\n",
      " [[ 1  7]\n",
      "  [ 4 10]]\n",
      "\n",
      " [[ 2  8]\n",
      "  [ 5 11]]]\n"
     ]
    }
   ],
   "source": [
    "arr3 = np.arange(12).reshape(2,2,3).T\n",
    "print(arr3)"
   ]
  },
  {
   "cell_type": "code",
   "execution_count": 19,
   "metadata": {},
   "outputs": [
    {
     "data": {
      "text/plain": [
       "array([[[ 0,  6],\n",
       "        [ 3,  9]],\n",
       "\n",
       "       [[ 1,  7],\n",
       "        [ 4, 10]],\n",
       "\n",
       "       [[ 2,  8],\n",
       "        [ 5, 11]]])"
      ]
     },
     "execution_count": 19,
     "metadata": {},
     "output_type": "execute_result"
    }
   ],
   "source": [
    "arr2.T"
   ]
  },
  {
   "cell_type": "code",
   "execution_count": 21,
   "metadata": {},
   "outputs": [
    {
     "name": "stdout",
     "output_type": "stream",
     "text": [
      "[[0 1 2 3 4]\n",
      " [5 6 7 8 9]]\n",
      "[[0 5]\n",
      " [1 6]\n",
      " [2 7]\n",
      " [3 8]\n",
      " [4 9]]\n"
     ]
    }
   ],
   "source": [
    "arr4 = np.arange(10).reshape(2,5)\n",
    "print(arr4)\n",
    "print(arr4.T)"
   ]
  },
  {
   "cell_type": "code",
   "execution_count": 49,
   "metadata": {},
   "outputs": [
    {
     "name": "stdout",
     "output_type": "stream",
     "text": [
      "[[0 1 2]\n",
      " [3 4 5]\n",
      " [6 7 8]]\n",
      "--> slicing row wise\n",
      "--> [[0 1 2]\n",
      " [3 4 5]]\n",
      "--> [[0 1 2]\n",
      " [3 4 5]\n",
      " [6 7 8]]\n",
      "--> slicing column wise\n",
      "--> [1 4 7]\n",
      "--> [0 3 6]\n",
      "--> [5 8]\n",
      "--> [[4 5]\n",
      " [7 8]]\n"
     ]
    },
    {
     "data": {
      "text/plain": [
       "array([], shape=(0, 3), dtype=int32)"
      ]
     },
     "execution_count": 49,
     "metadata": {},
     "output_type": "execute_result"
    }
   ],
   "source": [
    "arr5 = np.arange(9).reshape(3,3)\n",
    "print(arr5)\n",
    "\n",
    "#slicing of array in row\n",
    "print(\"--> slicing row wise\")\n",
    "print(\"-->\",arr5[:2])\n",
    "print(\"-->\",arr5[:3])\n",
    "\n",
    "#slicing column wise\n",
    "print(\"--> slicing column wise\")\n",
    "print(\"-->\",arr5[:,1])\n",
    "print(\"-->\",arr5[:,0])\n",
    "\n",
    "#slicing row & column\n",
    "print(\"-->\",arr5[1:3,2])\n",
    "print(\"-->\",arr5[1:3,1:3])\n",
    "\n",
    "arr5[1:1]"
   ]
  },
  {
   "cell_type": "code",
   "execution_count": 98,
   "metadata": {},
   "outputs": [
    {
     "name": "stdout",
     "output_type": "stream",
     "text": [
      "[[ 0  1  2  3  4  5  6  7  8  9]\n",
      " [10 11 12 13 14 15 16 17 18 19]\n",
      " [20 21 22 23 24 25 26 27 28 29]\n",
      " [30 31 32 33 34 35 36 37 38 39]\n",
      " [40 41 42 43 44 45 46 47 48 49]\n",
      " [50 51 52 53 54 55 56 57 58 59]\n",
      " [60 61 62 63 64 65 66 67 68 69]\n",
      " [70 71 72 73 74 75 76 77 78 79]\n",
      " [80 81 82 83 84 85 86 87 88 89]\n",
      " [90 91 92 93 94 95 96 97 98 99]]\n",
      "--> [[64 65]]\n",
      "--> [[50 51]\n",
      " [60 61]\n",
      " [70 71]]\n",
      "--> [[50 51]]\n",
      "--> [78 88]\n",
      "--> [[ 0  1  2  3  4  5  6  7  8  9]\n",
      " [30 31 32 33 34 35 36 37 38 39]]\n"
     ]
    }
   ],
   "source": [
    "arr6 = np.arange(100).reshape(10,10)\n",
    "print(arr6)\n",
    "print(\"-->\",arr6[6:7,4:6])\n",
    "print(\"-->\",arr6[5:8,0:2])\n",
    "print(\"-->\",arr6[5:6,0:2])\n",
    "print(\"-->\",arr6[7:9,8])\n",
    "#print(\"-->\",arr6[5:6,0:2][7:9])\n",
    "#print(\"-->\",arr6[])\n",
    "s = slice(0,6,3)\n",
    "#s1 =  slice()\n",
    "print(\"-->\",arr6[s])"
   ]
  },
  {
   "cell_type": "code",
   "execution_count": 72,
   "metadata": {},
   "outputs": [
    {
     "data": {
      "text/plain": [
       "array([[20, 21, 22, 23, 24, 25, 26, 27, 28, 29],\n",
       "       [50, 51, 52, 53, 54, 55, 56, 57, 58, 59],\n",
       "       [80, 81, 82, 83, 84, 85, 86, 87, 88, 89]])"
      ]
     },
     "execution_count": 72,
     "metadata": {},
     "output_type": "execute_result"
    }
   ],
   "source": [
    "s = slice(2,10,3)\n",
    "arr6[s]"
   ]
  },
  {
   "cell_type": "code",
   "execution_count": 73,
   "metadata": {},
   "outputs": [
    {
     "data": {
      "text/plain": [
       "array([[20, 21, 22, 23, 24, 25, 26, 27, 28, 29],\n",
       "       [50, 51, 52, 53, 54, 55, 56, 57, 58, 59],\n",
       "       [80, 81, 82, 83, 84, 85, 86, 87, 88, 89]])"
      ]
     },
     "execution_count": 73,
     "metadata": {},
     "output_type": "execute_result"
    }
   ],
   "source": [
    "arr6[2:10:3]"
   ]
  },
  {
   "cell_type": "code",
   "execution_count": 100,
   "metadata": {},
   "outputs": [
    {
     "name": "stdout",
     "output_type": "stream",
     "text": [
      "--> [50 51]\n"
     ]
    }
   ],
   "source": [
    "print(\"-->\",arr6[5,0:2])"
   ]
  },
  {
   "cell_type": "code",
   "execution_count": 103,
   "metadata": {},
   "outputs": [
    {
     "data": {
      "text/plain": [
       "array([[0, 1, 2],\n",
       "       [1, 2, 3],\n",
       "       [2, 3, 4]])"
      ]
     },
     "execution_count": 103,
     "metadata": {},
     "output_type": "execute_result"
    }
   ],
   "source": [
    "#fromfunction\n",
    "np.fromfunction(lambda x,y : x+y, (3,3), dtype = int)"
   ]
  },
  {
   "cell_type": "code",
   "execution_count": 108,
   "metadata": {},
   "outputs": [],
   "source": [
    "#np.fromfunction?"
   ]
  },
  {
   "cell_type": "code",
   "execution_count": 106,
   "metadata": {},
   "outputs": [
    {
     "data": {
      "text/plain": [
       "array([ 0, 11, 22, 33, 44, 55, 66, 77, 88, 99])"
      ]
     },
     "execution_count": 106,
     "metadata": {},
     "output_type": "execute_result"
    }
   ],
   "source": [
    "#diagonal elements\n",
    "arr6.diagonal()"
   ]
  },
  {
   "cell_type": "code",
   "execution_count": 107,
   "metadata": {},
   "outputs": [
    {
     "data": {
      "text/plain": [
       "array([[ True, False, False],\n",
       "       [False,  True, False],\n",
       "       [False, False,  True]])"
      ]
     },
     "execution_count": 107,
     "metadata": {},
     "output_type": "execute_result"
    }
   ],
   "source": [
    "# generates an array from function\n",
    "np.fromfunction(lambda i, j: i == j, (3, 3), dtype=int)"
   ]
  },
  {
   "cell_type": "code",
   "execution_count": 152,
   "metadata": {},
   "outputs": [
    {
     "data": {
      "text/plain": [
       "array([[ 0,  1,  2],\n",
       "       [10, 11, 12],\n",
       "       [20, 21, 22]])"
      ]
     },
     "execution_count": 152,
     "metadata": {},
     "output_type": "execute_result"
    }
   ],
   "source": [
    "def arr(x,y):\n",
    "    return 10*x+y\n",
    "np.fromfunction(arr, (3,3), dtype = int)"
   ]
  },
  {
   "cell_type": "code",
   "execution_count": 155,
   "metadata": {},
   "outputs": [
    {
     "name": "stdout",
     "output_type": "stream",
     "text": [
      "[[[[ 0  0  0]\n",
      "   [ 1  1  1]]\n",
      "\n",
      "  [[10 10 10]\n",
      "   [11 11 11]]\n",
      "\n",
      "  [[20 20 20]\n",
      "   [21 21 21]]]\n",
      "\n",
      "\n",
      " [[[ 0  0  0]\n",
      "   [ 1  1  1]]\n",
      "\n",
      "  [[10 10 10]\n",
      "   [11 11 11]]\n",
      "\n",
      "  [[20 20 20]\n",
      "   [21 21 21]]]\n",
      "\n",
      "\n",
      " [[[ 0  0  0]\n",
      "   [ 1  1  1]]\n",
      "\n",
      "  [[10 10 10]\n",
      "   [11 11 11]]\n",
      "\n",
      "  [[20 20 20]\n",
      "   [21 21 21]]]]\n"
     ]
    },
    {
     "data": {
      "text/plain": [
       "4"
      ]
     },
     "execution_count": 155,
     "metadata": {},
     "output_type": "execute_result"
    }
   ],
   "source": [
    "def arr(w,x,y,z):\n",
    "    return 10*x+y\n",
    "print(np.fromfunction(arr, (3,3,2,3), dtype = int))\n",
    "np.fromfunction(arr, (3,3,2,3), dtype = int).ndim\n"
   ]
  },
  {
   "cell_type": "code",
   "execution_count": 158,
   "metadata": {},
   "outputs": [
    {
     "data": {
      "text/plain": [
       "array([[ 0,  1,  2,  3,  4,  5,  6,  7,  8,  9],\n",
       "       [10, 11, 12, 13, 14, 15, 16, 17, 18, 19],\n",
       "       [20, 21, 22, 23, 24, 25, 26, 27, 28, 29],\n",
       "       [30, 31, 32, 33, 34, 35, 36, 37, 38, 39],\n",
       "       [40, 41, 42, 43, 44, 45, 46, 47, 48, 49],\n",
       "       [50, 51, 52, 53, 54, 55, 56, 57, 58, 59],\n",
       "       [60, 61, 62, 63, 64, 65, 66, 67, 68, 69],\n",
       "       [70, 71, 72, 73, 74, 75, 76, 77, 78, 79],\n",
       "       [80, 81, 82, 83, 84, 85, 86, 87, 88, 89],\n",
       "       [90, 91, 92, 93, 94, 95, 96, 97, 98, 99]])"
      ]
     },
     "execution_count": 158,
     "metadata": {},
     "output_type": "execute_result"
    }
   ],
   "source": [
    "arr6"
   ]
  },
  {
   "cell_type": "code",
   "execution_count": 165,
   "metadata": {},
   "outputs": [
    {
     "data": {
      "text/plain": [
       "array([30, 41, 52, 63, 74, 85, 96])"
      ]
     },
     "execution_count": 165,
     "metadata": {},
     "output_type": "execute_result"
    }
   ],
   "source": [
    "#axis1 = 1 means column , axis2 = 0 means row\n",
    "# 1 : True , 0 : False\n",
    "# axis1 : verticle axis , axis2 : horizontal axis\n",
    "arr6.diagonal(offset = 3, axis1=1 , axis2=0)"
   ]
  },
  {
   "cell_type": "code",
   "execution_count": 169,
   "metadata": {},
   "outputs": [
    {
     "data": {
      "text/plain": [
       "array([30, 41, 52, 63, 74, 85, 96])"
      ]
     },
     "execution_count": 169,
     "metadata": {},
     "output_type": "execute_result"
    }
   ],
   "source": [
    "arr6.diagonal(offset = 3, axis1=True , axis2=False)"
   ]
  },
  {
   "cell_type": "code",
   "execution_count": 123,
   "metadata": {},
   "outputs": [],
   "source": [
    "#arr6.diagonal?"
   ]
  },
  {
   "cell_type": "code",
   "execution_count": 127,
   "metadata": {},
   "outputs": [
    {
     "data": {
      "text/plain": [
       "array([30, 41, 52, 63, 74, 85, 96])"
      ]
     },
     "execution_count": 127,
     "metadata": {},
     "output_type": "execute_result"
    }
   ],
   "source": [
    "arr6.diagonal(offset = -3)"
   ]
  },
  {
   "cell_type": "code",
   "execution_count": 200,
   "metadata": {},
   "outputs": [
    {
     "name": "stdout",
     "output_type": "stream",
     "text": [
      "[['1' '' '' '' '']\n",
      " ['' '1' '' '' '']\n",
      " ['' '' '1' '' '']\n",
      " ['' '' '' '1' '']\n",
      " ['' '' '' '' '1']] \n",
      "\n",
      " [[1. 0. 0. 0. 0.]\n",
      " [0. 1. 0. 0. 0.]\n",
      " [0. 0. 1. 0. 0.]\n",
      " [0. 0. 0. 1. 0.]\n",
      " [0. 0. 0. 0. 1.]] \n",
      "\n",
      " [[1 0 0 0 0]\n",
      " [0 1 0 0 0]\n",
      " [0 0 1 0 0]\n",
      " [0 0 0 1 0]\n",
      " [0 0 0 0 1]]\n",
      "[[1. 0. 0.]\n",
      " [0. 1. 0.]\n",
      " [0. 0. 1.]]\n"
     ]
    }
   ],
   "source": [
    "#identity matrix\n",
    "print(np.identity(5 , dtype='str'),\"\\n\\n\",np.identity(5 , dtype='float'),\"\\n\\n\",np.identity(5, dtype=\"int\"))\n",
    "print(np.eye(3))"
   ]
  },
  {
   "cell_type": "code",
   "execution_count": 195,
   "metadata": {},
   "outputs": [
    {
     "data": {
      "text/plain": [
       "array([[0.05704398, 0.38913871, 0.77711775],\n",
       "       [0.09654649, 0.77323556, 0.18543211],\n",
       "       [0.33342229, 0.35483592, 0.34749028]])"
      ]
     },
     "execution_count": 195,
     "metadata": {},
     "output_type": "execute_result"
    }
   ],
   "source": [
    "arr7 = np.random.random(9).reshape(3,3)\n",
    "arr7"
   ]
  },
  {
   "cell_type": "code",
   "execution_count": 196,
   "metadata": {},
   "outputs": [
    {
     "data": {
      "text/plain": [
       "array([0, 2, 1], dtype=int64)"
      ]
     },
     "execution_count": 196,
     "metadata": {},
     "output_type": "execute_result"
    }
   ],
   "source": [
    "arr7.argmin(0)"
   ]
  },
  {
   "cell_type": "code",
   "execution_count": 197,
   "metadata": {},
   "outputs": [
    {
     "data": {
      "text/plain": [
       "array([2, 1, 0], dtype=int64)"
      ]
     },
     "execution_count": 197,
     "metadata": {},
     "output_type": "execute_result"
    }
   ],
   "source": [
    "arr7.argmax(0)"
   ]
  },
  {
   "cell_type": "code",
   "execution_count": 206,
   "metadata": {},
   "outputs": [
    {
     "data": {
      "text/plain": [
       "array([[0.05704398, 0.38913871, 0.77711775],\n",
       "       [0.09654649, 0.18543211, 0.77323556],\n",
       "       [0.33342229, 0.34749028, 0.35483592]])"
      ]
     },
     "execution_count": 206,
     "metadata": {},
     "output_type": "execute_result"
    }
   ],
   "source": [
    "#sort the array\n",
    "arr7.sort()\n",
    "arr7"
   ]
  },
  {
   "cell_type": "code",
   "execution_count": 209,
   "metadata": {},
   "outputs": [
    {
     "data": {
      "text/plain": [
       "array([[0, 1, 2],\n",
       "       [0, 1, 2],\n",
       "       [0, 1, 2]], dtype=int64)"
      ]
     },
     "execution_count": 209,
     "metadata": {},
     "output_type": "execute_result"
    }
   ],
   "source": [
    "arr7.argsort()"
   ]
  },
  {
   "cell_type": "code",
   "execution_count": 214,
   "metadata": {},
   "outputs": [
    {
     "data": {
      "text/plain": [
       "matrix([[0.05704398, 0.38913871, 0.77711775],\n",
       "        [0.09654649, 0.18543211, 0.77323556],\n",
       "        [0.33342229, 0.34749028, 0.35483592]])"
      ]
     },
     "execution_count": 214,
     "metadata": {},
     "output_type": "execute_result"
    }
   ],
   "source": [
    "# make a matrix of array\n",
    "np.matrix(arr7)"
   ]
  },
  {
   "cell_type": "code",
   "execution_count": 238,
   "metadata": {},
   "outputs": [
    {
     "name": "stdout",
     "output_type": "stream",
     "text": [
      "[[0.90441838 0.52200735 0.30623808 0.60887784 0.56002508 0.01733722\n",
      "  0.09706655 0.41143422 0.85279716 0.76859995]\n",
      " [0.44977094 0.12553439 0.44963654 0.20807482 0.01575674 0.62972516\n",
      "  0.71955034 0.67586212 0.88358123 0.03991839]\n",
      " [0.66931455 0.10443756 0.66835432 0.71280735 0.92568195 0.42061657\n",
      "  0.97527451 0.52344187 0.15364617 0.59671637]\n",
      " [0.41154492 0.43338529 0.53500509 0.86505019 0.26218586 0.96012956\n",
      "  0.28518378 0.17923859 0.32289131 0.58132217]\n",
      " [0.77235702 0.93426755 0.72141531 0.69203254 0.53728067 0.19945998\n",
      "  0.20916799 0.94518625 0.44213137 0.21283952]\n",
      " [0.19623754 0.76611828 0.05782378 0.66541921 0.23914079 0.20877625\n",
      "  0.29402039 0.83570289 0.14576729 0.45240862]\n",
      " [0.46346095 0.4431231  0.61725913 0.37100734 0.58795568 0.35656174\n",
      "  0.03786123 0.45590957 0.14441062 0.36538201]\n",
      " [0.06421682 0.43646308 0.17395996 0.74110289 0.95051676 0.97207238\n",
      "  0.03942103 0.95810177 0.71001212 0.33243054]\n",
      " [0.7791048  0.16758846 0.52312467 0.18360791 0.91201404 0.86543601\n",
      "  0.9792693  0.9115556  0.77931996 0.45229662]\n",
      " [0.33478423 0.8839215  0.42802948 0.45616386 0.12379236 0.80868042\n",
      "  0.07215884 0.56082371 0.41419736 0.12213593]]\n"
     ]
    }
   ],
   "source": [
    "arr9 = np.random.rand(100).reshape(10,10)\n",
    "print(arr9)"
   ]
  },
  {
   "cell_type": "code",
   "execution_count": 219,
   "metadata": {},
   "outputs": [
    {
     "name": "stdout",
     "output_type": "stream",
     "text": [
      "0.2608657091080575\n"
     ]
    }
   ],
   "source": [
    "# takes exact position\n",
    "print(arr9[7,7])"
   ]
  },
  {
   "cell_type": "code",
   "execution_count": 220,
   "metadata": {},
   "outputs": [
    {
     "name": "stdout",
     "output_type": "stream",
     "text": [
      "[0.26086571]\n"
     ]
    }
   ],
   "source": [
    "# takes a range and shows in list\n",
    "print(arr9[7:8,7])"
   ]
  },
  {
   "cell_type": "code",
   "execution_count": 272,
   "metadata": {},
   "outputs": [
    {
     "name": "stdout",
     "output_type": "stream",
     "text": [
      "[0.9, 0.52, 0.31, 0.61, 0.56, 0.02, 0.1, 0.41, 0.85, 0.77, 0.45, 0.13, 0.45, 0.21, 0.02, 0.63, 0.72, 0.68, 0.88, 0.04, 0.67, 0.1, 0.67, 0.71, 0.93, 0.42, 0.98, 0.52, 0.15, 0.6, 0.41, 0.43, 0.54, 0.87, 0.26, 0.96, 0.29, 0.18, 0.32, 0.58, 0.77, 0.93, 0.72, 0.69, 0.54, 0.2, 0.21, 0.95, 0.44, 0.21, 0.2, 0.77, 0.06, 0.67, 0.24, 0.21, 0.29, 0.84, 0.15, 0.45, 0.46, 0.44, 0.62, 0.37, 0.59, 0.36, 0.04, 0.46, 0.14, 0.37, 0.06, 0.44, 0.17, 0.74, 0.95, 0.97, 0.04, 0.96, 0.71, 0.33, 0.78, 0.17, 0.52, 0.18, 0.91, 0.87, 0.98, 0.91, 0.78, 0.45, 0.33, 0.88, 0.43, 0.46, 0.12, 0.81, 0.07, 0.56, 0.41, 0.12]\n"
     ]
    }
   ],
   "source": [
    "l = [round(i[j],2) for i in arr9 for j in range(10)]\n",
    "print(l)"
   ]
  },
  {
   "cell_type": "code",
   "execution_count": 252,
   "metadata": {},
   "outputs": [
    {
     "ename": "TypeError",
     "evalue": "unsupported operand type(s) for -: 'list' and 'int'",
     "output_type": "error",
     "traceback": [
      "\u001b[1;31m---------------------------------------------------------------------------\u001b[0m",
      "\u001b[1;31mTypeError\u001b[0m                                 Traceback (most recent call last)",
      "\u001b[1;32m<ipython-input-252-949344453ad0>\u001b[0m in \u001b[0;36m<module>\u001b[1;34m()\u001b[0m\n\u001b[1;32m----> 1\u001b[1;33m \u001b[0mnp\u001b[0m\u001b[1;33m.\u001b[0m\u001b[0marange\u001b[0m\u001b[1;33m(\u001b[0m\u001b[0ml\u001b[0m\u001b[1;33m)\u001b[0m\u001b[1;33m.\u001b[0m\u001b[0mreshape\u001b[0m\u001b[1;33m(\u001b[0m\u001b[1;36m10\u001b[0m\u001b[1;33m,\u001b[0m\u001b[1;36m10\u001b[0m\u001b[1;33m)\u001b[0m\u001b[1;33m\u001b[0m\u001b[0m\n\u001b[0m",
      "\u001b[1;31mTypeError\u001b[0m: unsupported operand type(s) for -: 'list' and 'int'"
     ]
    }
   ],
   "source": [
    "np.arange(l).reshape(10,10)"
   ]
  },
  {
   "cell_type": "code",
   "execution_count": 258,
   "metadata": {},
   "outputs": [
    {
     "name": "stdout",
     "output_type": "stream",
     "text": [
      "[0.9  0.52 0.31 0.61 0.56 0.02 0.1  0.41 0.85 0.77 0.45 0.13 0.45 0.21\n",
      " 0.02 0.63 0.72 0.68 0.88 0.04 0.67 0.1  0.67 0.71 0.93 0.42 0.98 0.52\n",
      " 0.15 0.6  0.41 0.43 0.54 0.87 0.26 0.96 0.29 0.18 0.32 0.58 0.77 0.93\n",
      " 0.72 0.69 0.54 0.2  0.21 0.95 0.44 0.21 0.2  0.77 0.06 0.67 0.24 0.21\n",
      " 0.29 0.84 0.15 0.45 0.46 0.44 0.62 0.37 0.59 0.36 0.04 0.46 0.14 0.37\n",
      " 0.06 0.44 0.17 0.74 0.95 0.97 0.04 0.96 0.71 0.33 0.78 0.17 0.52 0.18\n",
      " 0.91 0.87 0.98 0.91 0.78 0.45 0.33 0.88 0.43 0.46 0.12 0.81 0.07 0.56\n",
      " 0.41 0.12]\n"
     ]
    }
   ],
   "source": [
    "# list to array\n",
    "l1 = np.asarray(l)\n",
    "print(l1)"
   ]
  },
  {
   "cell_type": "code",
   "execution_count": 259,
   "metadata": {},
   "outputs": [
    {
     "data": {
      "text/plain": [
       "1"
      ]
     },
     "execution_count": 259,
     "metadata": {},
     "output_type": "execute_result"
    }
   ],
   "source": [
    "l1.ndim"
   ]
  },
  {
   "cell_type": "code",
   "execution_count": 260,
   "metadata": {},
   "outputs": [],
   "source": [
    "l2 = l1"
   ]
  },
  {
   "cell_type": "code",
   "execution_count": 273,
   "metadata": {},
   "outputs": [
    {
     "name": "stdout",
     "output_type": "stream",
     "text": [
      "[[0.9  0.52 0.31 0.61 0.56 0.02 0.1  0.41 0.85 0.77]\n",
      " [0.45 0.13 0.45 0.21 0.02 0.63 0.72 0.68 0.88 0.04]\n",
      " [0.67 0.1  0.67 0.71 0.93 0.42 0.98 0.52 0.15 0.6 ]\n",
      " [0.41 0.43 0.54 0.87 0.26 0.96 0.29 0.18 0.32 0.58]\n",
      " [0.77 0.93 0.72 0.69 0.54 0.2  0.21 0.95 0.44 0.21]\n",
      " [0.2  0.77 0.06 0.67 0.24 0.21 0.29 0.84 0.15 0.45]\n",
      " [0.46 0.44 0.62 0.37 0.59 0.36 0.04 0.46 0.14 0.37]\n",
      " [0.06 0.44 0.17 0.74 0.95 0.97 0.04 0.96 0.71 0.33]\n",
      " [0.78 0.17 0.52 0.18 0.91 0.87 0.98 0.91 0.78 0.45]\n",
      " [0.33 0.88 0.43 0.46 0.12 0.81 0.07 0.56 0.41 0.12]]\n"
     ]
    }
   ],
   "source": [
    "l3 = l2.reshape(10,10)\n",
    "print(l3)"
   ]
  },
  {
   "cell_type": "code",
   "execution_count": 274,
   "metadata": {},
   "outputs": [],
   "source": [
    "l4 = l3"
   ]
  },
  {
   "cell_type": "code",
   "execution_count": 277,
   "metadata": {},
   "outputs": [
    {
     "name": "stdout",
     "output_type": "stream",
     "text": [
      "[[0.9, 0.52, 0.31, 0.61, 0.56, 0.02, 0.1, 0.41, 0.85, 0.77], [0.45, 0.13, 0.45, 0.21, 0.02, 0.63, 0.72, 0.68, 0.88, 0.04], [0.67, 0.1, 0.67, 0.71, 0.93, 0.42, 0.98, 0.52, 0.15, 0.6], [0.41, 0.43, 0.54, 0.87, 0.26, 0.96, 0.29, 0.18, 0.32, 0.58], [0.77, 0.93, 0.72, 0.69, 0.54, 0.2, 0.21, 0.95, 0.44, 0.21], [0.2, 0.77, 0.06, 0.67, 0.24, 0.21, 0.29, 0.84, 0.15, 0.45], [0.46, 0.44, 0.62, 0.37, 0.59, 0.36, 0.04, 0.46, 0.14, 0.37], [0.06, 0.44, 0.17, 0.74, 0.95, 0.97, 0.04, 0.96, 0.71, 0.33], [0.78, 0.17, 0.52, 0.18, 0.91, 0.87, 0.98, 0.91, 0.78, 0.45], [0.33, 0.88, 0.43, 0.46, 0.12, 0.81, 0.07, 0.56, 0.41, 0.12]]\n"
     ]
    }
   ],
   "source": [
    "l5= l4.tolist()\n",
    "print(l5)"
   ]
  },
  {
   "cell_type": "code",
   "execution_count": 291,
   "metadata": {},
   "outputs": [
    {
     "data": {
      "text/plain": [
       "array([[0.5488135 , 0.71518937, 0.60276338],\n",
       "       [0.54488318, 0.4236548 , 0.64589411],\n",
       "       [0.43758721, 0.891773  , 0.96366276]])"
      ]
     },
     "execution_count": 291,
     "metadata": {},
     "output_type": "execute_result"
    }
   ],
   "source": [
    "#seed fixes the random value\n",
    "#float with seed\n",
    "np.random.seed(0)\n",
    "a = np.random.rand(9).reshape(3,3)\n",
    "a"
   ]
  },
  {
   "cell_type": "code",
   "execution_count": 292,
   "metadata": {},
   "outputs": [
    {
     "data": {
      "text/plain": [
       "array([[4.17022005e-01, 7.20324493e-01, 1.14374817e-04],\n",
       "       [3.02332573e-01, 1.46755891e-01, 9.23385948e-02],\n",
       "       [1.86260211e-01, 3.45560727e-01, 3.96767474e-01]])"
      ]
     },
     "execution_count": 292,
     "metadata": {},
     "output_type": "execute_result"
    }
   ],
   "source": [
    "# exp with seed\n",
    "np.random.seed(1)\n",
    "a = np.random.rand(9).reshape(3,3)\n",
    "a"
   ]
  },
  {
   "cell_type": "code",
   "execution_count": 290,
   "metadata": {},
   "outputs": [
    {
     "data": {
      "text/plain": [
       "array([[0.4359949 , 0.02592623, 0.54966248],\n",
       "       [0.43532239, 0.4203678 , 0.33033482],\n",
       "       [0.20464863, 0.61927097, 0.29965467]])"
      ]
     },
     "execution_count": 290,
     "metadata": {},
     "output_type": "execute_result"
    }
   ],
   "source": [
    "np.random.seed(2)\n",
    "a = np.random.rand(9).reshape(3,3)\n",
    "a"
   ]
  },
  {
   "cell_type": "code",
   "execution_count": 296,
   "metadata": {},
   "outputs": [
    {
     "data": {
      "text/plain": [
       "array([[ 0.48759421,  1.73907303,  0.0689698 ,  0.47324139, -0.65035502,\n",
       "        -0.77910696, -0.77766271,  0.6225628 ,  0.42756207,  0.0740096 ],\n",
       "       [-0.4531686 ,  0.60415364,  2.38520581, -0.12388333, -0.32419367,\n",
       "         0.31075423,  2.46162831, -0.31612369, -1.81506277,  0.6842495 ],\n",
       "       [ 0.03203253,  0.19627021,  0.90745116, -2.13483482,  0.81684718,\n",
       "         1.18417131, -0.20448056, -0.11084446,  1.41448273, -1.416645  ],\n",
       "       [ 0.67351346, -0.77229442, -0.09387704, -0.16977402, -0.54114463,\n",
       "         0.53794761,  0.39128265,  2.21191487, -0.16224463,  0.29117816],\n",
       "       [ 0.10806266, -0.19953292,  0.2328323 ,  0.15539326,  0.59372515,\n",
       "        -1.35055772,  0.83056467,  0.11321804, -1.24274572,  1.59948307],\n",
       "       [ 2.47441941, -0.33232485,  0.77714652,  0.09035118, -0.18659747,\n",
       "         0.74325857, -0.41917807,  0.00496046, -0.83355727, -0.37935889],\n",
       "       [-0.54362249,  1.08361763,  0.12180609,  0.65364026, -0.08915495,\n",
       "         0.90087165,  1.40248666,  0.21768255, -0.08359946, -1.83797562],\n",
       "       [-0.20606241,  0.04215544, -1.40456061,  1.97969053, -0.59401942,\n",
       "         0.98821644,  0.18310407,  0.92399299,  0.53317198, -0.58513304],\n",
       "       [-0.56053692,  0.14077318,  1.76760095, -0.78777374, -0.06172207,\n",
       "         0.23842679,  0.07477245,  0.33830476,  0.27807663,  1.22396588],\n",
       "       [-1.43049861,  0.8544429 ,  1.50685064,  0.52333394,  0.41531125,\n",
       "         0.58338753,  0.75946264,  0.41269018,  1.16783683, -1.21248978]])"
      ]
     },
     "execution_count": 296,
     "metadata": {},
     "output_type": "execute_result"
    }
   ],
   "source": [
    "# normal distribution\n",
    "np.random.randn(100).reshape(10,10)"
   ]
  },
  {
   "cell_type": "code",
   "execution_count": 308,
   "metadata": {},
   "outputs": [
    {
     "data": {
      "text/plain": [
       "array([[5, 1, 8],\n",
       "       [0, 5, 3],\n",
       "       [9, 0, 4]])"
      ]
     },
     "execution_count": 308,
     "metadata": {},
     "output_type": "execute_result"
    }
   ],
   "source": [
    "# int type random\n",
    "a1 = np.random.randint(10, size=(3,3))\n",
    "a1"
   ]
  },
  {
   "cell_type": "code",
   "execution_count": 307,
   "metadata": {},
   "outputs": [],
   "source": [
    "from numpy.linalg import inv"
   ]
  },
  {
   "cell_type": "code",
   "execution_count": 309,
   "metadata": {},
   "outputs": [
    {
     "data": {
      "text/plain": [
       "array([[-0.08583691,  0.01716738,  0.15879828],\n",
       "       [-0.11587983,  0.22317597,  0.06437768],\n",
       "       [ 0.19313305, -0.03862661, -0.10729614]])"
      ]
     },
     "execution_count": 309,
     "metadata": {},
     "output_type": "execute_result"
    }
   ],
   "source": [
    "inv(a1)"
   ]
  },
  {
   "cell_type": "code",
   "execution_count": 312,
   "metadata": {},
   "outputs": [],
   "source": [
    "#Equation handling______________\n"
   ]
  },
  {
   "cell_type": "code",
   "execution_count": 317,
   "metadata": {},
   "outputs": [
    {
     "name": "stdout",
     "output_type": "stream",
     "text": [
      "[[3 1]\n",
      " [1 2]] \n",
      " [9 8]\n"
     ]
    }
   ],
   "source": [
    "# 3*x0 + x1 = 9\n",
    "# x0 + 2*x1 = 8\n",
    "\n",
    "a = np.array([[3,1],[1,2]])\n",
    "b = np.array([9,8])\n",
    "print(a,\"\\n\",b)"
   ]
  },
  {
   "cell_type": "code",
   "execution_count": 319,
   "metadata": {},
   "outputs": [
    {
     "name": "stdout",
     "output_type": "stream",
     "text": [
      "[2. 3.]\n"
     ]
    }
   ],
   "source": [
    "root = np.linalg.solve(a,b)\n",
    "print(root)"
   ]
  },
  {
   "cell_type": "code",
   "execution_count": 323,
   "metadata": {},
   "outputs": [
    {
     "data": {
      "text/plain": [
       "numpy.ndarray"
      ]
     },
     "execution_count": 323,
     "metadata": {},
     "output_type": "execute_result"
    }
   ],
   "source": [
    "type(root)"
   ]
  },
  {
   "cell_type": "code",
   "execution_count": 324,
   "metadata": {},
   "outputs": [
    {
     "data": {
      "text/plain": [
       "1"
      ]
     },
     "execution_count": 324,
     "metadata": {},
     "output_type": "execute_result"
    }
   ],
   "source": [
    "root.ndim"
   ]
  },
  {
   "cell_type": "code",
   "execution_count": 328,
   "metadata": {},
   "outputs": [
    {
     "data": {
      "text/plain": [
       "array([[ 3.6, -1.6],\n",
       "       [-1.8,  4.8]])"
      ]
     },
     "execution_count": 328,
     "metadata": {},
     "output_type": "execute_result"
    }
   ],
   "source": [
    "c = inv(a)*b\n",
    "c"
   ]
  },
  {
   "cell_type": "code",
   "execution_count": 358,
   "metadata": {},
   "outputs": [
    {
     "data": {
      "text/plain": [
       "array([[ 0,  1],\n",
       "       [ 2,  3],\n",
       "       [40, 50],\n",
       "       [60, 70],\n",
       "       [80, 90]])"
      ]
     },
     "execution_count": 358,
     "metadata": {},
     "output_type": "execute_result"
    }
   ],
   "source": [
    "# where(cond/value , result, else result)\n",
    "a = np.arange(10).reshape(5,2)\n",
    "np.where(a<4,a,10*a)"
   ]
  },
  {
   "cell_type": "code",
   "execution_count": 331,
   "metadata": {},
   "outputs": [],
   "source": [
    "np.where?"
   ]
  },
  {
   "cell_type": "code",
   "execution_count": 347,
   "metadata": {},
   "outputs": [
    {
     "data": {
      "text/plain": [
       "array([[[0, 1, 2]],\n",
       "\n",
       "       [[3, 4, 5]],\n",
       "\n",
       "       [[6, 7, 8]]])"
      ]
     },
     "execution_count": 347,
     "metadata": {},
     "output_type": "execute_result"
    }
   ],
   "source": [
    "b = np.arange(9).reshape(3,1,3)\n",
    "b"
   ]
  },
  {
   "cell_type": "code",
   "execution_count": 348,
   "metadata": {},
   "outputs": [
    {
     "name": "stdout",
     "output_type": "stream",
     "text": [
      "0\n",
      "1\n",
      "2\n",
      "3\n",
      "4\n",
      "5\n",
      "6\n",
      "7\n",
      "8\n"
     ]
    }
   ],
   "source": [
    "#gives elements from array\n",
    "for i in b.flat:\n",
    "    print(i)"
   ]
  },
  {
   "cell_type": "code",
   "execution_count": 349,
   "metadata": {},
   "outputs": [
    {
     "data": {
      "text/plain": [
       "array([0, 1, 2, 3, 4, 5, 6, 7, 8])"
      ]
     },
     "execution_count": 349,
     "metadata": {},
     "output_type": "execute_result"
    }
   ],
   "source": [
    "# form 1-D array\n",
    "b1 = b.ravel()\n",
    "b1"
   ]
  },
  {
   "cell_type": "code",
   "execution_count": 350,
   "metadata": {},
   "outputs": [
    {
     "data": {
      "text/plain": [
       "1"
      ]
     },
     "execution_count": 350,
     "metadata": {},
     "output_type": "execute_result"
    }
   ],
   "source": [
    "b1.ndim"
   ]
  },
  {
   "cell_type": "code",
   "execution_count": 357,
   "metadata": {},
   "outputs": [
    {
     "data": {
      "text/plain": [
       "6.666666666666667"
      ]
     },
     "execution_count": 357,
     "metadata": {},
     "output_type": "execute_result"
    }
   ],
   "source": [
    "# variance\n",
    "b.var()"
   ]
  },
  {
   "cell_type": "code",
   "execution_count": 354,
   "metadata": {},
   "outputs": [
    {
     "data": {
      "text/plain": [
       "2.581988897471611"
      ]
     },
     "execution_count": 354,
     "metadata": {},
     "output_type": "execute_result"
    }
   ],
   "source": [
    "# standard deviation\n",
    "b.std()"
   ]
  },
  {
   "cell_type": "code",
   "execution_count": null,
   "metadata": {},
   "outputs": [],
   "source": []
  }
 ],
 "metadata": {
  "kernelspec": {
   "display_name": "Python 3",
   "language": "python",
   "name": "python3"
  },
  "language_info": {
   "codemirror_mode": {
    "name": "ipython",
    "version": 3
   },
   "file_extension": ".py",
   "mimetype": "text/x-python",
   "name": "python",
   "nbconvert_exporter": "python",
   "pygments_lexer": "ipython3",
   "version": "3.6.4"
  }
 },
 "nbformat": 4,
 "nbformat_minor": 2
}
