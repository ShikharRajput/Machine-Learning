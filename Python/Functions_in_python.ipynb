{
 "cells": [
  {
   "cell_type": "code",
   "execution_count": 1,
   "metadata": {},
   "outputs": [],
   "source": [
    "#Functions in Python\n",
    "'''Note --> To call a def function from file_1 to file_2\n",
    "            Let we have a function named multiply() in file_1\n",
    "            \n",
    "            In file_2 use import method\n",
    "            \n",
    "            import multiply()\n",
    "            \n",
    "            import multiply() as my             #To shorten the name"
   ]
  },
  {
   "cell_type": "code",
   "execution_count": 6,
   "metadata": {},
   "outputs": [
    {
     "name": "stdout",
     "output_type": "stream",
     "text": [
      "32\n",
      "Return Result to Calling Statement :  32\n",
      "100\n",
      "Direct Call from Print Statement :  100\n"
     ]
    }
   ],
   "source": [
    "def add(a,b):  \n",
    "    print(a+b)   #Print only\n",
    "    return(a+b)  #Return value of (a+b) to calling statement\n",
    "\n",
    "sum = add(12,20)   #Calling statement\n",
    "\n",
    "print(\"Return Result to Calling Statement : \", sum)\n",
    "print(\"Direct Call from Print Statement : \", add(5,95))   #Calling function from Print statement"
   ]
  },
  {
   "cell_type": "code",
   "execution_count": 1,
   "metadata": {},
   "outputs": [
    {
     "name": "stdout",
     "output_type": "stream",
     "text": [
      "Enter First value : 20\n",
      "Enter Second value : 19\n",
      "String Addition/Concatenation :  2019\n",
      "Integer Addition :  39\n"
     ]
    }
   ],
   "source": [
    "def add(a,b):\n",
    "    return(a+b)  #Return value of (a+b) to calling statement\n",
    "\n",
    "a=input(\"Enter First value : \")\n",
    "b=input(\"Enter Second value : \")\n",
    "\n",
    "#Upper statements take \"String\" values, Revise String concatenation\n",
    "\n",
    "print(\"String Addition/Concatenation : \", add(a,b))\n",
    "print(\"Integer Addition : \", add(int(a),int(b)))"
   ]
  },
  {
   "cell_type": "code",
   "execution_count": 3,
   "metadata": {},
   "outputs": [
    {
     "name": "stdout",
     "output_type": "stream",
     "text": [
      "Enter marks of ML : 89\n",
      "You scored Grade B\n"
     ]
    }
   ],
   "source": [
    "def grade():    #def funtion will not take any argument\n",
    "    \n",
    "    marks = int(input(\"Enter marks of ML : \"))\n",
    "    \n",
    "    if marks>=90 and marks<=100:   \n",
    "        print(\"You scored Grade A\")\n",
    "\n",
    "    elif marks<90 and marks>=80:    \n",
    "        print(\"You scored Grade B\")\n",
    "    \n",
    "    elif marks<80 and marks>=60:\n",
    "        print(\"You scored Grade B\")\n",
    "\n",
    "    else:\n",
    "        print(\"Need improvement, Better Luck Next Time Dear\")\n",
    "\n",
    "grade()"
   ]
  },
  {
   "cell_type": "code",
   "execution_count": null,
   "metadata": {},
   "outputs": [],
   "source": []
  }
 ],
 "metadata": {
  "kernelspec": {
   "display_name": "Python 3",
   "language": "python",
   "name": "python3"
  },
  "language_info": {
   "codemirror_mode": {
    "name": "ipython",
    "version": 3
   },
   "file_extension": ".py",
   "mimetype": "text/x-python",
   "name": "python",
   "nbconvert_exporter": "python",
   "pygments_lexer": "ipython3",
   "version": "3.6.4"
  }
 },
 "nbformat": 4,
 "nbformat_minor": 2
}
