{
 "cells": [
  {
   "cell_type": "code",
   "execution_count": 28,
   "metadata": {},
   "outputs": [],
   "source": [
    "#Class in Python"
   ]
  },
  {
   "cell_type": "code",
   "execution_count": 13,
   "metadata": {},
   "outputs": [],
   "source": [
    "class ML():\n",
    "    pass"
   ]
  },
  {
   "cell_type": "code",
   "execution_count": 14,
   "metadata": {},
   "outputs": [],
   "source": [
    "class student():\n",
    "    def __init__(self,roolno):\n",
    "        sel.rollno=123\n",
    "        "
   ]
  },
  {
   "cell_type": "code",
   "execution_count": 22,
   "metadata": {},
   "outputs": [
    {
     "name": "stdout",
     "output_type": "stream",
     "text": [
      "bark\n"
     ]
    }
   ],
   "source": [
    "class Animal():\n",
    "    def bark(self):\n",
    "        print(\"bark\")\n",
    "\n",
    "Animal.bark('null')"
   ]
  },
  {
   "cell_type": "code",
   "execution_count": 26,
   "metadata": {},
   "outputs": [
    {
     "name": "stdout",
     "output_type": "stream",
     "text": [
      "bark\n"
     ]
    }
   ],
   "source": [
    "class Janvar():\n",
    "    def bark():\n",
    "        print(\"bark\")\n",
    "jn=Janvar\n",
    "jn.bark()"
   ]
  },
  {
   "cell_type": "code",
   "execution_count": 27,
   "metadata": {},
   "outputs": [
    {
     "name": "stdout",
     "output_type": "stream",
     "text": [
      "bark\n"
     ]
    }
   ],
   "source": [
    "class dog:\n",
    "    def bark():\n",
    "        print(\"bark\")\n",
    "\n",
    "dog.bark()"
   ]
  },
  {
   "cell_type": "code",
   "execution_count": 121,
   "metadata": {},
   "outputs": [],
   "source": [
    "class fan():\n",
    "    def __init__(self, make, radius, color):\n",
    "        self.make_1 = make\n",
    "        self.radius = radius\n",
    "        self.color = color\n",
    "        self.speed = 0\n",
    "        self.is_on = False\n",
    "        print(self.make_1)\n",
    "        \n",
    "    def __repr__():\n",
    "        return(self.make_1, self.radius, self.color)\n",
    "    \n",
    "    def switch_on(self):\n",
    "        self.is_on = True\n",
    "        self.speed = 3\n",
    "        return(self.speed)\n",
    "    \n",
    "    def switch_off(self):\n",
    "        self.is_on = False\n",
    "        self.speed = 0\n",
    "        "
   ]
  },
  {
   "cell_type": "code",
   "execution_count": 122,
   "metadata": {},
   "outputs": [
    {
     "name": "stdout",
     "output_type": "stream",
     "text": [
      "Manufacture\n",
      "Manufacture 5 Green\n"
     ]
    },
    {
     "data": {
      "text/plain": [
       "3"
      ]
     },
     "execution_count": 122,
     "metadata": {},
     "output_type": "execute_result"
    }
   ],
   "source": [
    "fan1 = fan('Manufacture', 5, \"Green\")\n",
    "print(fan1.make_1, fan1.radius, fan1.color)\n",
    "#print(fan1)\n",
    "fan1.switch_on()\n"
   ]
  },
  {
   "cell_type": "code",
   "execution_count": 137,
   "metadata": {},
   "outputs": [
    {
     "name": "stdout",
     "output_type": "stream",
     "text": [
      "dog barking\n",
      "Animal speaking\n",
      "Eating bread...\n",
      "dog barking\n",
      "Animal speaking\n"
     ]
    }
   ],
   "source": [
    "class animal():\n",
    "    def speak(self):\n",
    "        print(\"Animal speaking\")\n",
    "#class dog inherits the base class animal\n",
    "class dog(animal):\n",
    "    def bark(self):\n",
    "        print(\"dog barking\")\n",
    "#The child class dogchild inherits another child class dog \n",
    "class dogchild(dog):\n",
    "    def eat(self):\n",
    "        print(\"Eating bread...\")\n",
    "d = dog()\n",
    "d.bark()\n",
    "d.speak()\n",
    "dc=dogchild()\n",
    "dc.eat()\n",
    "dc.bark()\n",
    "dc.speak()"
   ]
  },
  {
   "cell_type": "code",
   "execution_count": 135,
   "metadata": {},
   "outputs": [
    {
     "name": "stdout",
     "output_type": "stream",
     "text": [
      "blue\n",
      "Green\n",
      "28\n"
     ]
    }
   ],
   "source": [
    "class Rectangle(object):\n",
    "    def __init__(self, width, height, color = 'blue'):\n",
    "        self.width = width\n",
    "        self.height = height\n",
    "        self.color = color\n",
    "        \n",
    "    def Area(self):\n",
    "        return self.width*self.height\n",
    "\n",
    "default_rectangle = Rectangle(2,3)\n",
    "print(default_rectangle.color)\n",
    "red_rectangle = Rectangle(4,7,'Green')\n",
    "print(red_rectangle.color)\n",
    "print(red_rectangle.Area())"
   ]
  },
  {
   "cell_type": "code",
   "execution_count": 150,
   "metadata": {},
   "outputs": [
    {
     "name": "stdout",
     "output_type": "stream",
     "text": [
      "The number of employees 1\n"
     ]
    }
   ],
   "source": [
    "class Employee():\n",
    "    __count = 0;\n",
    "    def __init__(self):\n",
    "        Employee.__count = Employee.__count+1\n",
    "        \n",
    "    def display(self):\n",
    "        print(\"The number of employees\",Employee.__count)\n",
    "\n",
    "emp = Employee()\n",
    "\n",
    "#emp2 = Employee()\n",
    "\n",
    "emp.display()"
   ]
  },
  {
   "cell_type": "code",
   "execution_count": 151,
   "metadata": {},
   "outputs": [
    {
     "name": "stdout",
     "output_type": "stream",
     "text": [
      "2\n",
      "The number of employees 2\n"
     ]
    }
   ],
   "source": [
    "class Employee():\n",
    "    count = 0;\n",
    "    def __init__(self):\n",
    "        Employee.count = Employee.count+1\n",
    "        \n",
    "    def display(self):\n",
    "        print(\"The number of employees\",Employee.count)\n",
    "\n",
    "emp = Employee()\n",
    "emp2 = Employee()\n",
    "try:\n",
    "    print(emp.count)\n",
    "finally:\n",
    "    emp.display()"
   ]
  },
  {
   "cell_type": "code",
   "execution_count": 158,
   "metadata": {},
   "outputs": [
    {
     "data": {
      "text/plain": [
       "['x', 'x', 'x', 'x', 4, 'x', 6, 'x', 8, 'x']"
      ]
     },
     "execution_count": 158,
     "metadata": {},
     "output_type": "execute_result"
    }
   ],
   "source": [
    "[\"x\" if i%2!=0 else \"x\" if i<4 else i for i in range(10)]"
   ]
  },
  {
   "cell_type": "code",
   "execution_count": 159,
   "metadata": {},
   "outputs": [
    {
     "data": {
      "text/plain": [
       "['x', 'x', 'x', 'x', 4, 'x', 6, 'x', 8, 'x']"
      ]
     },
     "execution_count": 159,
     "metadata": {},
     "output_type": "execute_result"
    }
   ],
   "source": [
    "[x if (x > 2 and x % 2 == 0) else \"x\" for x in range(10)]"
   ]
  },
  {
   "cell_type": "code",
   "execution_count": null,
   "metadata": {},
   "outputs": [],
   "source": []
  }
 ],
 "metadata": {
  "kernelspec": {
   "display_name": "Python 3",
   "language": "python",
   "name": "python3"
  },
  "language_info": {
   "codemirror_mode": {
    "name": "ipython",
    "version": 3
   },
   "file_extension": ".py",
   "mimetype": "text/x-python",
   "name": "python",
   "nbconvert_exporter": "python",
   "pygments_lexer": "ipython3",
   "version": "3.6.4"
  }
 },
 "nbformat": 4,
 "nbformat_minor": 2
}
