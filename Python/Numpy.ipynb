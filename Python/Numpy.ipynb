{
 "cells": [
  {
   "cell_type": "code",
   "execution_count": 1,
   "metadata": {},
   "outputs": [],
   "source": [
    "#numpy_____________"
   ]
  },
  {
   "cell_type": "code",
   "execution_count": 2,
   "metadata": {},
   "outputs": [],
   "source": [
    "import numpy as np"
   ]
  },
  {
   "cell_type": "code",
   "execution_count": 3,
   "metadata": {},
   "outputs": [
    {
     "name": "stdout",
     "output_type": "stream",
     "text": [
      "[1 2 3 4 5]\n"
     ]
    }
   ],
   "source": [
    "arr1 = np.array([1,2,3,4,5])\n",
    "print(arr1)"
   ]
  },
  {
   "cell_type": "code",
   "execution_count": 4,
   "metadata": {},
   "outputs": [
    {
     "name": "stdout",
     "output_type": "stream",
     "text": [
      "[1 2 3 4 5] \n",
      " [0.5 1.  1.5 2.  2.5] \n",
      " [11 12 13 14 15] \n",
      " [-9 -8 -7 -6 -5]\n"
     ]
    }
   ],
   "source": [
    "print(arr1*1, '\\n', arr1/2, '\\n', arr1+10, '\\n', arr1-10)"
   ]
  },
  {
   "cell_type": "code",
   "execution_count": 5,
   "metadata": {},
   "outputs": [
    {
     "name": "stdout",
     "output_type": "stream",
     "text": [
      "hello"
     ]
    }
   ],
   "source": [
    "for i in \"hello\":\n",
    "    print(i,end='')\n",
    "    #print(i,end='\\f')\n",
    "    #print(i,end='\\r')\n",
    "    #print(i,end='\\n')"
   ]
  },
  {
   "cell_type": "code",
   "execution_count": 6,
   "metadata": {},
   "outputs": [
    {
     "name": "stdout",
     "output_type": "stream",
     "text": [
      "[0.19293219 0.44392715 0.74240509 0.71107187 0.50953703 0.80181813]\n"
     ]
    },
    {
     "data": {
      "text/plain": [
       "array([0.31343811, 0.60185979, 0.85325283, 0.54496814, 0.64883363,\n",
       "       0.29957079])"
      ]
     },
     "execution_count": 6,
     "metadata": {},
     "output_type": "execute_result"
    }
   ],
   "source": [
    "print(np.random.rand(6))\n",
    "np.random.rand(6)\n"
   ]
  },
  {
   "cell_type": "code",
   "execution_count": 7,
   "metadata": {},
   "outputs": [
    {
     "name": "stdout",
     "output_type": "stream",
     "text": [
      "0\n"
     ]
    }
   ],
   "source": [
    "print(np.random.randint(6))"
   ]
  },
  {
   "cell_type": "code",
   "execution_count": 8,
   "metadata": {},
   "outputs": [
    {
     "data": {
      "text/plain": [
       "5"
      ]
     },
     "execution_count": 8,
     "metadata": {},
     "output_type": "execute_result"
    }
   ],
   "source": [
    "arr1.size"
   ]
  },
  {
   "cell_type": "code",
   "execution_count": 1,
   "metadata": {},
   "outputs": [
    {
     "name": "stdout",
     "output_type": "stream",
     "text": [
      "0.386\n"
     ]
    }
   ],
   "source": [
    "import random\n",
    "a = random.random()\n",
    "print('%.3f'%a)"
   ]
  },
  {
   "cell_type": "code",
   "execution_count": 10,
   "metadata": {},
   "outputs": [
    {
     "name": "stdout",
     "output_type": "stream",
     "text": [
      "The integral value of number is : 3\n",
      "The smallest integer greater than number is : 4\n",
      "The greatest integer smaller than number is : 3\n"
     ]
    }
   ],
   "source": [
    "# Python code to demonstrate ceil(), trunc() \n",
    "# and floor() \n",
    "\n",
    "# importing \"math\" for precision function \n",
    "import math \n",
    "\n",
    "# initializing value \n",
    "a = 3.4536\n",
    "\n",
    "# using trunc() to print integer after truncating \n",
    "print (\"The integral value of number is : \",end=\"\") \n",
    "print (math.trunc(a)) \n",
    "\n",
    "# using ceil() to print number after ceiling \n",
    "print (\"The smallest integer greater than number is : \",end=\"\") \n",
    "print (math.ceil(a)) \n",
    "\n",
    "# using floor() to print number after flooring \n",
    "print (\"The greatest integer smaller than number is : \",end=\"\") \n",
    "print (math.floor(a)) \n"
   ]
  },
  {
   "cell_type": "code",
   "execution_count": 11,
   "metadata": {},
   "outputs": [
    {
     "name": "stdout",
     "output_type": "stream",
     "text": [
      "The value of number till 2 decimal place(using %) is : 3.46\n",
      "The value of number till 2 decimal place(using format()) is : 3.46\n",
      "The value of number till 2 decimal place(using round()) is : 3.46\n"
     ]
    }
   ],
   "source": [
    "# Python code to demonstrate precision \n",
    "# and round() \n",
    "\n",
    "# initializing value \n",
    "a = 3.4556\n",
    "\n",
    "# using \"%\" to print value till 2 decimal places \n",
    "print (\"The value of number till 2 decimal place(using %) is : \",end=\"\") \n",
    "print ('%.2f'%a) \n",
    "\n",
    "# using format() to print value till 2 decimal places \n",
    "print (\"The value of number till 2 decimal place(using format()) is : \",end=\"\") \n",
    "print (\"{0:.2f}\".format(a)) \n",
    "\n",
    "# using round() to print value till 2 decimal places \n",
    "print (\"The value of number till 2 decimal place(using round()) is : \",end=\"\") \n",
    "print (round(a,2)) \n"
   ]
  },
  {
   "cell_type": "code",
   "execution_count": 12,
   "metadata": {},
   "outputs": [
    {
     "name": "stdout",
     "output_type": "stream",
     "text": [
      "7.1537\n"
     ]
    }
   ],
   "source": [
    "b = 7.15366\n",
    "print('%.4f'%b)"
   ]
  },
  {
   "cell_type": "code",
   "execution_count": 13,
   "metadata": {},
   "outputs": [
    {
     "name": "stdout",
     "output_type": "stream",
     "text": [
      "[list([(1, 2, 3), (4, 5, 6)]) list([2, 3, 34, 4])]\n"
     ]
    }
   ],
   "source": [
    "arr2 = np.array([[(1,2,3),(4,5,6)],[2,3,34,4]])\n",
    "print(arr2)"
   ]
  },
  {
   "cell_type": "code",
   "execution_count": 14,
   "metadata": {},
   "outputs": [
    {
     "name": "stdout",
     "output_type": "stream",
     "text": [
      "[(1, 2, 3) (4, 5, 6) (7, 8, 9, 0)]\n"
     ]
    },
    {
     "data": {
      "text/plain": [
       "array([(1, 2, 3), (4, 5, 6), (7, 8, 9, 0)], dtype=object)"
      ]
     },
     "execution_count": 14,
     "metadata": {},
     "output_type": "execute_result"
    }
   ],
   "source": [
    "#Multi-Dimension Array\n",
    "arr3 = np.array([(1,2,3),(4,5,6),(7,8,9,0)])\n",
    "print(arr3)\n",
    "arr3"
   ]
  },
  {
   "cell_type": "code",
   "execution_count": 15,
   "metadata": {},
   "outputs": [
    {
     "name": "stdout",
     "output_type": "stream",
     "text": [
      "[[1 2 3]\n",
      " [4 5 6]\n",
      " [7 8 9]]\n"
     ]
    },
    {
     "data": {
      "text/plain": [
       "array([[1, 2, 3],\n",
       "       [4, 5, 6],\n",
       "       [7, 8, 9]])"
      ]
     },
     "execution_count": 15,
     "metadata": {},
     "output_type": "execute_result"
    }
   ],
   "source": [
    "arr4 = np.array([(1,2,3),(4,5,6),(7,8,9)])\n",
    "print(arr4)\n",
    "arr4"
   ]
  },
  {
   "cell_type": "code",
   "execution_count": 16,
   "metadata": {},
   "outputs": [
    {
     "name": "stdout",
     "output_type": "stream",
     "text": [
      "[[1 2 3 0]\n",
      " [4 5 6 0]\n",
      " [7 8 9 0]]\n"
     ]
    },
    {
     "data": {
      "text/plain": [
       "array([[1, 2, 3, 0],\n",
       "       [4, 5, 6, 0],\n",
       "       [7, 8, 9, 0]])"
      ]
     },
     "execution_count": 16,
     "metadata": {},
     "output_type": "execute_result"
    }
   ],
   "source": [
    "arr5 = np.array([(1,2,3,0),(4,5,6,0),(7,8,9,0)])\n",
    "print(arr5)\n",
    "arr5"
   ]
  },
  {
   "cell_type": "code",
   "execution_count": 17,
   "metadata": {},
   "outputs": [
    {
     "data": {
      "text/plain": [
       "2"
      ]
     },
     "execution_count": 17,
     "metadata": {},
     "output_type": "execute_result"
    }
   ],
   "source": [
    "arr5.ndim   #2-D array(m x n)"
   ]
  },
  {
   "cell_type": "raw",
   "metadata": {},
   "source": []
  },
  {
   "cell_type": "code",
   "execution_count": 18,
   "metadata": {},
   "outputs": [
    {
     "data": {
      "text/plain": [
       "1"
      ]
     },
     "execution_count": 18,
     "metadata": {},
     "output_type": "execute_result"
    }
   ],
   "source": [
    "arr3.ndim"
   ]
  },
  {
   "cell_type": "code",
   "execution_count": 19,
   "metadata": {},
   "outputs": [
    {
     "name": "stdout",
     "output_type": "stream",
     "text": [
      "[[(1, 2, 3) (4, 5, 6) (7, 8, 9, 0)]\n",
      " [(11, 12, 13) (14, 15, 16) (17, 18, 19, 20)]]\n"
     ]
    },
    {
     "data": {
      "text/plain": [
       "array([[(1, 2, 3), (4, 5, 6), (7, 8, 9, 0)],\n",
       "       [(11, 12, 13), (14, 15, 16), (17, 18, 19, 20)]], dtype=object)"
      ]
     },
     "execution_count": 19,
     "metadata": {},
     "output_type": "execute_result"
    }
   ],
   "source": [
    "arr6 = np.array([[(1,2,3),(4,5,6),(7,8,9,0)],[(11,12,13),(14,15,16),(17,18,19,20)]])\n",
    "print(arr6)\n",
    "arr6"
   ]
  },
  {
   "cell_type": "code",
   "execution_count": 20,
   "metadata": {},
   "outputs": [
    {
     "data": {
      "text/plain": [
       "2"
      ]
     },
     "execution_count": 20,
     "metadata": {},
     "output_type": "execute_result"
    }
   ],
   "source": [
    "arr6.ndim"
   ]
  },
  {
   "cell_type": "code",
   "execution_count": 21,
   "metadata": {},
   "outputs": [
    {
     "name": "stdout",
     "output_type": "stream",
     "text": [
      "[1 2 3 4 5 6] [1.2 2.4 3.6 4.8 6.  7.2] [0.9 1.8 2.7 3.6 4.5 5.4]\n"
     ]
    }
   ],
   "source": [
    "salary = (1,2,3,4,5,6)\n",
    "a = np.array(salary)\n",
    "print(a, a+a*0.2, a*0.9)\n"
   ]
  },
  {
   "cell_type": "code",
   "execution_count": 22,
   "metadata": {},
   "outputs": [
    {
     "name": "stdout",
     "output_type": "stream",
     "text": [
      "[[2 3]\n",
      " [5 6]\n",
      " [8 9]]\n"
     ]
    }
   ],
   "source": [
    "arr7 = np.array([[2,3],[5,6],[8,9]])\n",
    "print(arr7)"
   ]
  },
  {
   "cell_type": "code",
   "execution_count": 23,
   "metadata": {},
   "outputs": [
    {
     "data": {
      "text/plain": [
       "2"
      ]
     },
     "execution_count": 23,
     "metadata": {},
     "output_type": "execute_result"
    }
   ],
   "source": [
    "arr7.ndim"
   ]
  },
  {
   "cell_type": "code",
   "execution_count": 24,
   "metadata": {},
   "outputs": [
    {
     "data": {
      "text/plain": [
       "(3, 2)"
      ]
     },
     "execution_count": 24,
     "metadata": {},
     "output_type": "execute_result"
    }
   ],
   "source": [
    "arr7.shape"
   ]
  },
  {
   "cell_type": "code",
   "execution_count": 25,
   "metadata": {},
   "outputs": [
    {
     "data": {
      "text/plain": [
       "<function ndarray.all>"
      ]
     },
     "execution_count": 25,
     "metadata": {},
     "output_type": "execute_result"
    }
   ],
   "source": [
    "arr7.all"
   ]
  },
  {
   "cell_type": "code",
   "execution_count": 26,
   "metadata": {},
   "outputs": [
    {
     "data": {
      "text/plain": [
       "<function ndarray.argmax>"
      ]
     },
     "execution_count": 26,
     "metadata": {},
     "output_type": "execute_result"
    }
   ],
   "source": [
    "a=arr7.argmax\n",
    "a"
   ]
  },
  {
   "cell_type": "code",
   "execution_count": 27,
   "metadata": {},
   "outputs": [
    {
     "data": {
      "text/plain": [
       "array([[ 0,  1,  2],\n",
       "       [ 3,  4,  5],\n",
       "       [ 6,  7,  8],\n",
       "       [ 9, 10, 11],\n",
       "       [12, 13, 14]])"
      ]
     },
     "execution_count": 27,
     "metadata": {},
     "output_type": "execute_result"
    }
   ],
   "source": [
    "np.arange(15).reshape(5,3)"
   ]
  },
  {
   "cell_type": "code",
   "execution_count": 28,
   "metadata": {},
   "outputs": [
    {
     "name": "stdout",
     "output_type": "stream",
     "text": [
      "[[[ 0  1  2  3  4  5  6  7  8  9]\n",
      "  [10 11 12 13 14 15 16 17 18 19]]\n",
      "\n",
      " [[20 21 22 23 24 25 26 27 28 29]\n",
      "  [30 31 32 33 34 35 36 37 38 39]]\n",
      "\n",
      " [[40 41 42 43 44 45 46 47 48 49]\n",
      "  [50 51 52 53 54 55 56 57 58 59]]\n",
      "\n",
      " [[60 61 62 63 64 65 66 67 68 69]\n",
      "  [70 71 72 73 74 75 76 77 78 79]]\n",
      "\n",
      " [[80 81 82 83 84 85 86 87 88 89]\n",
      "  [90 91 92 93 94 95 96 97 98 99]]]\n"
     ]
    }
   ],
   "source": [
    "arr8 = np.arange(100).reshape(5,2,10)\n",
    "print(arr8)"
   ]
  },
  {
   "cell_type": "code",
   "execution_count": 29,
   "metadata": {},
   "outputs": [
    {
     "data": {
      "text/plain": [
       "4"
      ]
     },
     "execution_count": 29,
     "metadata": {},
     "output_type": "execute_result"
    }
   ],
   "source": [
    "arr8.itemsize"
   ]
  },
  {
   "cell_type": "code",
   "execution_count": 30,
   "metadata": {},
   "outputs": [
    {
     "data": {
      "text/plain": [
       "array([[[1., 1., 1.],\n",
       "        [1., 1., 1.],\n",
       "        [1., 1., 1.],\n",
       "        [1., 1., 1.],\n",
       "        [1., 1., 1.]],\n",
       "\n",
       "       [[1., 1., 1.],\n",
       "        [1., 1., 1.],\n",
       "        [1., 1., 1.],\n",
       "        [1., 1., 1.],\n",
       "        [1., 1., 1.]],\n",
       "\n",
       "       [[1., 1., 1.],\n",
       "        [1., 1., 1.],\n",
       "        [1., 1., 1.],\n",
       "        [1., 1., 1.],\n",
       "        [1., 1., 1.]]])"
      ]
     },
     "execution_count": 30,
     "metadata": {},
     "output_type": "execute_result"
    }
   ],
   "source": [
    "np.ones((3,5,3))"
   ]
  },
  {
   "cell_type": "code",
   "execution_count": 31,
   "metadata": {},
   "outputs": [
    {
     "data": {
      "text/plain": [
       "array([[[0., 0., 0., 0., 0.],\n",
       "        [0., 0., 0., 0., 0.],\n",
       "        [0., 0., 0., 0., 0.]],\n",
       "\n",
       "       [[0., 0., 0., 0., 0.],\n",
       "        [0., 0., 0., 0., 0.],\n",
       "        [0., 0., 0., 0., 0.]]])"
      ]
     },
     "execution_count": 31,
     "metadata": {},
     "output_type": "execute_result"
    }
   ],
   "source": [
    "np.zeros((2,3,5))"
   ]
  },
  {
   "cell_type": "code",
   "execution_count": 32,
   "metadata": {},
   "outputs": [
    {
     "name": "stdout",
     "output_type": "stream",
     "text": [
      "Want to enter listy\n",
      "Enter the elements[1,2]\n",
      "Want to enter listy\n",
      "Enter the elements[3,4]\n",
      "Want to enter listy\n",
      "Enter the elements[5,6]\n",
      "Want to enter listn\n",
      "[[1 2]\n",
      " [3 4]\n",
      " [5 6]]\n"
     ]
    }
   ],
   "source": [
    "arr = []\n",
    "while True:\n",
    "    a = input(\"Want to enter list\")\n",
    "    if a == \"y\":\n",
    "        ar = eval(input(\"Enter the elements\"))\n",
    "        arr.append(ar)\n",
    "        \n",
    "    \n",
    "    else:\n",
    "        break\n",
    "arr9 = np.array(arr)\n",
    "print(arr9)"
   ]
  },
  {
   "cell_type": "code",
   "execution_count": 33,
   "metadata": {},
   "outputs": [
    {
     "name": "stdout",
     "output_type": "stream",
     "text": [
      "enter[34,45,\"3\"]\n"
     ]
    }
   ],
   "source": [
    "a=eval(input(\"enter\"))"
   ]
  },
  {
   "cell_type": "code",
   "execution_count": 34,
   "metadata": {},
   "outputs": [
    {
     "data": {
      "text/plain": [
       "[34, 45, '3']"
      ]
     },
     "execution_count": 34,
     "metadata": {},
     "output_type": "execute_result"
    }
   ],
   "source": [
    "a"
   ]
  },
  {
   "cell_type": "code",
   "execution_count": 5,
   "metadata": {},
   "outputs": [
    {
     "name": "stdout",
     "output_type": "stream",
     "text": [
      "Want to enter list : y\n",
      "Enter the elements : 1,2,3\n",
      "Want to enter list : y\n",
      "Enter the elements : 3,4,5\n",
      "Want to enter list : y\n",
      "Enter the elements : 6,7,8\n",
      "Want to enter list : n\n",
      "[(1, 2, 3), (3, 4, 5), (6, 7, 8)]\n",
      "[[1 2 3]\n",
      " [3 4 5]\n",
      " [6 7 8]]\n"
     ]
    }
   ],
   "source": [
    "import numpy as np\n",
    "arr = []\n",
    "while True:\n",
    "    a = input(\"Want to enter list : \")\n",
    "    if a == \"y\":\n",
    "        ar = eval(input(\"Enter the elements : \"))\n",
    "        arr.append(ar)\n",
    "        \n",
    "    \n",
    "    else:\n",
    "        break\n",
    "print(arr)\n",
    "arr10 = np.array(arr)\n",
    "print(arr10)"
   ]
  },
  {
   "cell_type": "code",
   "execution_count": 6,
   "metadata": {},
   "outputs": [
    {
     "data": {
      "text/plain": [
       "2"
      ]
     },
     "execution_count": 6,
     "metadata": {},
     "output_type": "execute_result"
    }
   ],
   "source": [
    " arr10.ndim"
   ]
  },
  {
   "cell_type": "code",
   "execution_count": 7,
   "metadata": {},
   "outputs": [
    {
     "data": {
      "text/plain": [
       "dtype('int32')"
      ]
     },
     "execution_count": 7,
     "metadata": {},
     "output_type": "execute_result"
    }
   ],
   "source": [
    "arr10.dtype"
   ]
  },
  {
   "cell_type": "code",
   "execution_count": null,
   "metadata": {},
   "outputs": [],
   "source": [
    "#Type Casting"
   ]
  },
  {
   "cell_type": "code",
   "execution_count": 9,
   "metadata": {},
   "outputs": [
    {
     "data": {
      "text/plain": [
       "dtype('<U32')"
      ]
     },
     "execution_count": 9,
     "metadata": {},
     "output_type": "execute_result"
    }
   ],
   "source": [
    "c = np.array([ [1,2.3], [3,4] ], dtype='<U32')\n",
    "c.dtype"
   ]
  },
  {
   "cell_type": "code",
   "execution_count": 10,
   "metadata": {},
   "outputs": [
    {
     "name": "stdout",
     "output_type": "stream",
     "text": [
      "[['1' '2.3']\n",
      " ['3' '4']]\n"
     ]
    }
   ],
   "source": [
    "print(c)"
   ]
  },
  {
   "cell_type": "code",
   "execution_count": 35,
   "metadata": {},
   "outputs": [
    {
     "name": "stdout",
     "output_type": "stream",
     "text": [
      "[[[2 3 4]\n",
      "  [4 5 6]]\n",
      "\n",
      " [[2 3 4]\n",
      "  [4 5 6]]]\n"
     ]
    }
   ],
   "source": [
    "a=np.array((((2,3,4),(4,5,6)),((2,3,4),(4,5,6))), dtype='int', order = 'F')\n",
    "print(a)"
   ]
  },
  {
   "cell_type": "code",
   "execution_count": 36,
   "metadata": {},
   "outputs": [
    {
     "data": {
      "text/plain": [
       "3"
      ]
     },
     "execution_count": 36,
     "metadata": {},
     "output_type": "execute_result"
    }
   ],
   "source": [
    "a.ndim"
   ]
  },
  {
   "cell_type": "code",
   "execution_count": 49,
   "metadata": {},
   "outputs": [
    {
     "data": {
      "text/plain": [
       "[0, 1, 2, 3, 4, 5, 6, 7, 8, 9]"
      ]
     },
     "execution_count": 49,
     "metadata": {},
     "output_type": "execute_result"
    }
   ],
   "source": [
    "a=0\n",
    "[a+i for i in range(0,10)]\n"
   ]
  },
  {
   "cell_type": "code",
   "execution_count": 55,
   "metadata": {},
   "outputs": [
    {
     "name": "stdout",
     "output_type": "stream",
     "text": [
      "[[[[ 0  1  2  3  4]\n",
      "   [ 5  6  7  8  9]]\n",
      "\n",
      "  [[10 11 12 13 14]\n",
      "   [15 16 17 18 19]]\n",
      "\n",
      "  [[20 21 22 23 24]\n",
      "   [25 26 27 28 29]]\n",
      "\n",
      "  [[30 31 32 33 34]\n",
      "   [35 36 37 38 39]]\n",
      "\n",
      "  [[40 41 42 43 44]\n",
      "   [45 46 47 48 49]]]\n",
      "\n",
      "\n",
      " [[[50 51 52 53 54]\n",
      "   [55 56 57 58 59]]\n",
      "\n",
      "  [[60 61 62 63 64]\n",
      "   [65 66 67 68 69]]\n",
      "\n",
      "  [[70 71 72 73 74]\n",
      "   [75 76 77 78 79]]\n",
      "\n",
      "  [[80 81 82 83 84]\n",
      "   [85 86 87 88 89]]\n",
      "\n",
      "  [[90 91 92 93 94]\n",
      "   [95 96 97 98 99]]]]\n"
     ]
    },
    {
     "data": {
      "text/plain": [
       "4"
      ]
     },
     "execution_count": 55,
     "metadata": {},
     "output_type": "execute_result"
    }
   ],
   "source": [
    "a = np.arange(100).reshape(2,5,2,5)\n",
    "print(a)\n",
    "a.ndim"
   ]
  },
  {
   "cell_type": "code",
   "execution_count": 66,
   "metadata": {},
   "outputs": [
    {
     "name": "stdout",
     "output_type": "stream",
     "text": [
      "[[3 4 5]\n",
      " [6 7 8]]\n",
      "[[ 6  7  8]\n",
      " [ 9 10 11]]\n"
     ]
    }
   ],
   "source": [
    "ab = np.arange(3,9).reshape(2,3)\n",
    "ab1 = np.arange(6,12).reshape(2,3)\n",
    "print(ab)\n",
    "print(ab1)"
   ]
  },
  {
   "cell_type": "code",
   "execution_count": 67,
   "metadata": {},
   "outputs": [
    {
     "data": {
      "text/plain": [
       "array([[ 9, 11, 13],\n",
       "       [15, 17, 19]])"
      ]
     },
     "execution_count": 67,
     "metadata": {},
     "output_type": "execute_result"
    }
   ],
   "source": [
    "ab+ab1"
   ]
  },
  {
   "cell_type": "code",
   "execution_count": 68,
   "metadata": {},
   "outputs": [
    {
     "data": {
      "text/plain": [
       "array([[-3, -3, -3],\n",
       "       [-3, -3, -3]])"
      ]
     },
     "execution_count": 68,
     "metadata": {},
     "output_type": "execute_result"
    }
   ],
   "source": [
    "ab-ab1"
   ]
  },
  {
   "cell_type": "code",
   "execution_count": 69,
   "metadata": {},
   "outputs": [
    {
     "data": {
      "text/plain": [
       "array([[18, 28, 40],\n",
       "       [54, 70, 88]])"
      ]
     },
     "execution_count": 69,
     "metadata": {},
     "output_type": "execute_result"
    }
   ],
   "source": [
    "ab*ab1"
   ]
  },
  {
   "cell_type": "code",
   "execution_count": 70,
   "metadata": {},
   "outputs": [
    {
     "data": {
      "text/plain": [
       "array([[0.5       , 0.57142857, 0.625     ],\n",
       "       [0.66666667, 0.7       , 0.72727273]])"
      ]
     },
     "execution_count": 70,
     "metadata": {},
     "output_type": "execute_result"
    }
   ],
   "source": [
    "ab/ab1"
   ]
  },
  {
   "cell_type": "code",
   "execution_count": 71,
   "metadata": {},
   "outputs": [
    {
     "data": {
      "text/plain": [
       "array([[ 9, 16, 25],\n",
       "       [36, 49, 64]], dtype=int32)"
      ]
     },
     "execution_count": 71,
     "metadata": {},
     "output_type": "execute_result"
    }
   ],
   "source": [
    "ab**2"
   ]
  },
  {
   "cell_type": "code",
   "execution_count": 123,
   "metadata": {},
   "outputs": [
    {
     "name": "stdout",
     "output_type": "stream",
     "text": [
      "[[(1, 3, 2) (4, 5, 6) (14, 15, 16)]\n",
      " [(1, 2, 3, 4) (11, 12, 13) (7, 8, 9, 0)]\n",
      " [(2, 3, 1) (8, 9, 6) (1, 1, 1)]]\n"
     ]
    }
   ],
   "source": [
    "arrr = np.array([[(1,3,2),(4,5,6),(14,15,16)],[(1,2,3,4),(11,12,13),(7,8,9,0)],[(2,3,1),(8,9,6),(1,1,1)]])\n",
    "print(arrr)"
   ]
  },
  {
   "cell_type": "code",
   "execution_count": 124,
   "metadata": {},
   "outputs": [
    {
     "data": {
      "text/plain": [
       "array([(1, 3, 2), (1, 2, 3, 4), (1, 1, 1)], dtype=object)"
      ]
     },
     "execution_count": 124,
     "metadata": {},
     "output_type": "execute_result"
    }
   ],
   "source": [
    "#min value in row\n",
    "arrr.min(1)"
   ]
  },
  {
   "cell_type": "code",
   "execution_count": 125,
   "metadata": {},
   "outputs": [
    {
     "data": {
      "text/plain": [
       "(1, 1, 1)"
      ]
     },
     "execution_count": 125,
     "metadata": {},
     "output_type": "execute_result"
    }
   ],
   "source": [
    "#min value in array\n",
    "arrr.min()"
   ]
  },
  {
   "cell_type": "code",
   "execution_count": 126,
   "metadata": {},
   "outputs": [
    {
     "data": {
      "text/plain": [
       "array([(1, 2, 3, 4), (4, 5, 6), (1, 1, 1)], dtype=object)"
      ]
     },
     "execution_count": 126,
     "metadata": {},
     "output_type": "execute_result"
    }
   ],
   "source": [
    "#min value in column\n",
    "arrr.min(0)"
   ]
  },
  {
   "cell_type": "code",
   "execution_count": 127,
   "metadata": {},
   "outputs": [
    {
     "name": "stdout",
     "output_type": "stream",
     "text": [
      "[[3 4 5]\n",
      " [6 7 8]]\n",
      "[[ 1  6  7]\n",
      " [ 4  5 10]]\n"
     ]
    }
   ],
   "source": [
    "print(ab)\n",
    "print(ab^2)"
   ]
  },
  {
   "cell_type": "code",
   "execution_count": 139,
   "metadata": {},
   "outputs": [
    {
     "data": {
      "text/plain": [
       "12"
      ]
     },
     "execution_count": 139,
     "metadata": {},
     "output_type": "execute_result"
    }
   ],
   "source": [
    "5^9      #5 - 0101, 9 - 1001 XOR(5,9) - 1100"
   ]
  },
  {
   "cell_type": "code",
   "execution_count": 141,
   "metadata": {},
   "outputs": [
    {
     "data": {
      "text/plain": [
       "(14, 15, 16)"
      ]
     },
     "execution_count": 141,
     "metadata": {},
     "output_type": "execute_result"
    }
   ],
   "source": [
    "arrr.max()"
   ]
  },
  {
   "cell_type": "code",
   "execution_count": 142,
   "metadata": {},
   "outputs": [
    {
     "data": {
      "text/plain": [
       "array([(2, 3, 1), (11, 12, 13), (14, 15, 16)], dtype=object)"
      ]
     },
     "execution_count": 142,
     "metadata": {},
     "output_type": "execute_result"
    }
   ],
   "source": [
    "arrr.max(0)"
   ]
  },
  {
   "cell_type": "code",
   "execution_count": 144,
   "metadata": {},
   "outputs": [
    {
     "data": {
      "text/plain": [
       "array([(14, 15, 16), (11, 12, 13), (8, 9, 6)], dtype=object)"
      ]
     },
     "execution_count": 144,
     "metadata": {},
     "output_type": "execute_result"
    }
   ],
   "source": [
    "arrr.max(1)"
   ]
  },
  {
   "cell_type": "code",
   "execution_count": 147,
   "metadata": {},
   "outputs": [
    {
     "ename": "TypeError",
     "evalue": "unsupported operand type(s) for /: 'tuple' and 'int'",
     "output_type": "error",
     "traceback": [
      "\u001b[1;31m---------------------------------------------------------------------------\u001b[0m",
      "\u001b[1;31mTypeError\u001b[0m                                 Traceback (most recent call last)",
      "\u001b[1;32m<ipython-input-147-ad6b64537d44>\u001b[0m in \u001b[0;36m<module>\u001b[1;34m()\u001b[0m\n\u001b[1;32m----> 1\u001b[1;33m \u001b[0marrr\u001b[0m\u001b[1;33m.\u001b[0m\u001b[0mmean\u001b[0m\u001b[1;33m(\u001b[0m\u001b[1;33m)\u001b[0m\u001b[1;33m\u001b[0m\u001b[0m\n\u001b[0m",
      "\u001b[1;32m~\\Anaconda3\\lib\\site-packages\\numpy\\core\\_methods.py\u001b[0m in \u001b[0;36m_mean\u001b[1;34m(a, axis, dtype, out, keepdims)\u001b[0m\n\u001b[0;32m     80\u001b[0m             \u001b[0mret\u001b[0m \u001b[1;33m=\u001b[0m \u001b[0mret\u001b[0m\u001b[1;33m.\u001b[0m\u001b[0mdtype\u001b[0m\u001b[1;33m.\u001b[0m\u001b[0mtype\u001b[0m\u001b[1;33m(\u001b[0m\u001b[0mret\u001b[0m \u001b[1;33m/\u001b[0m \u001b[0mrcount\u001b[0m\u001b[1;33m)\u001b[0m\u001b[1;33m\u001b[0m\u001b[0m\n\u001b[0;32m     81\u001b[0m     \u001b[1;32melse\u001b[0m\u001b[1;33m:\u001b[0m\u001b[1;33m\u001b[0m\u001b[0m\n\u001b[1;32m---> 82\u001b[1;33m         \u001b[0mret\u001b[0m \u001b[1;33m=\u001b[0m \u001b[0mret\u001b[0m \u001b[1;33m/\u001b[0m \u001b[0mrcount\u001b[0m\u001b[1;33m\u001b[0m\u001b[0m\n\u001b[0m\u001b[0;32m     83\u001b[0m \u001b[1;33m\u001b[0m\u001b[0m\n\u001b[0;32m     84\u001b[0m     \u001b[1;32mreturn\u001b[0m \u001b[0mret\u001b[0m\u001b[1;33m\u001b[0m\u001b[0m\n",
      "\u001b[1;31mTypeError\u001b[0m: unsupported operand type(s) for /: 'tuple' and 'int'"
     ]
    }
   ],
   "source": [
    "arrr.mean()"
   ]
  },
  {
   "cell_type": "code",
   "execution_count": 160,
   "metadata": {},
   "outputs": [
    {
     "name": "stdout",
     "output_type": "stream",
     "text": [
      "[[12 23 13 43 31]\n",
      " [51 20 44 53 54]]\n"
     ]
    }
   ],
   "source": [
    "aq = np.array([[12,23,13,43,31],[51,20,44,53,54]])\n",
    "print(aq)"
   ]
  },
  {
   "cell_type": "code",
   "execution_count": 161,
   "metadata": {},
   "outputs": [
    {
     "data": {
      "text/plain": [
       "34.4"
      ]
     },
     "execution_count": 161,
     "metadata": {},
     "output_type": "execute_result"
    }
   ],
   "source": [
    "aq.mean()"
   ]
  },
  {
   "cell_type": "code",
   "execution_count": 162,
   "metadata": {},
   "outputs": [
    {
     "data": {
      "text/plain": [
       "array([31.5, 21.5, 28.5, 48. , 42.5])"
      ]
     },
     "execution_count": 162,
     "metadata": {},
     "output_type": "execute_result"
    }
   ],
   "source": [
    "aq.mean(0)"
   ]
  },
  {
   "cell_type": "code",
   "execution_count": 163,
   "metadata": {},
   "outputs": [
    {
     "data": {
      "text/plain": [
       "array([24.4, 44.4])"
      ]
     },
     "execution_count": 163,
     "metadata": {},
     "output_type": "execute_result"
    }
   ],
   "source": [
    "aq.mean(1)"
   ]
  },
  {
   "cell_type": "code",
   "execution_count": 164,
   "metadata": {},
   "outputs": [
    {
     "data": {
      "text/plain": [
       "array([23., 51.])"
      ]
     },
     "execution_count": 164,
     "metadata": {},
     "output_type": "execute_result"
    }
   ],
   "source": [
    "np.median(aq,1)"
   ]
  },
  {
   "cell_type": "code",
   "execution_count": 165,
   "metadata": {},
   "outputs": [
    {
     "data": {
      "text/plain": [
       "array([31.5, 21.5, 28.5, 48. , 42.5])"
      ]
     },
     "execution_count": 165,
     "metadata": {},
     "output_type": "execute_result"
    }
   ],
   "source": [
    "np.median(aq,0)"
   ]
  },
  {
   "cell_type": "code",
   "execution_count": 166,
   "metadata": {},
   "outputs": [
    {
     "data": {
      "text/plain": [
       "37.0"
      ]
     },
     "execution_count": 166,
     "metadata": {},
     "output_type": "execute_result"
    }
   ],
   "source": [
    "np.median(aq)"
   ]
  },
  {
   "cell_type": "code",
   "execution_count": 174,
   "metadata": {},
   "outputs": [
    {
     "name": "stdout",
     "output_type": "stream",
     "text": [
      "[[1 2 3]\n",
      " [4 5 6]]\n"
     ]
    }
   ],
   "source": [
    "aa = np.array([[1,2,3],[4,5,6]])\n",
    "print(aa)"
   ]
  },
  {
   "cell_type": "code",
   "execution_count": 175,
   "metadata": {},
   "outputs": [
    {
     "data": {
      "text/plain": [
       "array([[1, 2, 3, 1, 1, 1],\n",
       "       [4, 5, 6, 0, 0, 0]])"
      ]
     },
     "execution_count": 175,
     "metadata": {},
     "output_type": "execute_result"
    }
   ],
   "source": [
    "np.append(aa,[[1,1,1],[0,0,0]],1)"
   ]
  },
  {
   "cell_type": "code",
   "execution_count": 177,
   "metadata": {},
   "outputs": [
    {
     "data": {
      "text/plain": [
       "array([[1, 2, 3],\n",
       "       [4, 5, 6],\n",
       "       [9, 9, 9],\n",
       "       [8, 8, 8]])"
      ]
     },
     "execution_count": 177,
     "metadata": {},
     "output_type": "execute_result"
    }
   ],
   "source": [
    "np.append(aa,[[9,9,9],[8,8,8]],0)"
   ]
  },
  {
   "cell_type": "code",
   "execution_count": 180,
   "metadata": {},
   "outputs": [
    {
     "data": {
      "text/plain": [
       "array([ 0.        ,  0.52631579,  1.05263158,  1.57894737,  2.10526316,\n",
       "        2.63157895,  3.15789474,  3.68421053,  4.21052632,  4.73684211,\n",
       "        5.26315789,  5.78947368,  6.31578947,  6.84210526,  7.36842105,\n",
       "        7.89473684,  8.42105263,  8.94736842,  9.47368421, 10.        ])"
      ]
     },
     "execution_count": 180,
     "metadata": {},
     "output_type": "execute_result"
    }
   ],
   "source": [
    "np.linspace(0,10,20)"
   ]
  },
  {
   "cell_type": "code",
   "execution_count": 183,
   "metadata": {},
   "outputs": [
    {
     "name": "stdout",
     "output_type": "stream",
     "text": [
      "Enter value : 2\n",
      "Enter value : 3\n",
      "Enter value : 4\n",
      "Enter value : 32\n",
      "Enter value : 32\n",
      "Enter value : 4\n",
      "Enter value : 324\n",
      "Enter value : 324\n",
      "Enter value : 2\n",
      "Enter value : 43\n"
     ]
    },
    {
     "data": {
      "text/plain": [
       "array([[  2,   3,   4,  32,  32],\n",
       "       [  4, 324, 324,   2,  43]])"
      ]
     },
     "execution_count": 183,
     "metadata": {},
     "output_type": "execute_result"
    }
   ],
   "source": [
    "np.array([int(input(\"Enter value : \")) for i in range(10)]).reshape(2,5)"
   ]
  },
  {
   "cell_type": "code",
   "execution_count": 195,
   "metadata": {},
   "outputs": [
    {
     "data": {
      "text/plain": [
       "[0,\n",
       " 12075,\n",
       " 24150,\n",
       " 36225,\n",
       " 48300,\n",
       " 60375,\n",
       " 72450,\n",
       " 84525,\n",
       " 96600,\n",
       " 108675,\n",
       " 120750,\n",
       " 132825,\n",
       " 144900,\n",
       " 156975,\n",
       " 169050,\n",
       " 181125,\n",
       " 193200,\n",
       " 205275,\n",
       " 217350,\n",
       " 229425,\n",
       " 241500,\n",
       " 253575,\n",
       " 265650,\n",
       " 277725,\n",
       " 289800,\n",
       " 301875,\n",
       " 313950,\n",
       " 326025,\n",
       " 338100,\n",
       " 350175,\n",
       " 362250,\n",
       " 374325,\n",
       " 386400,\n",
       " 398475,\n",
       " 410550,\n",
       " 422625,\n",
       " 434700,\n",
       " 446775,\n",
       " 458850,\n",
       " 470925,\n",
       " 483000,\n",
       " 495075,\n",
       " 507150,\n",
       " 519225,\n",
       " 531300,\n",
       " 543375,\n",
       " 555450,\n",
       " 567525,\n",
       " 579600,\n",
       " 591675,\n",
       " 603750,\n",
       " 615825,\n",
       " 627900,\n",
       " 639975,\n",
       " 652050,\n",
       " 664125,\n",
       " 676200,\n",
       " 688275,\n",
       " 700350,\n",
       " 712425,\n",
       " 724500,\n",
       " 736575,\n",
       " 748650,\n",
       " 760725,\n",
       " 772800,\n",
       " 784875,\n",
       " 796950,\n",
       " 809025,\n",
       " 821100,\n",
       " 833175,\n",
       " 845250,\n",
       " 857325,\n",
       " 869400,\n",
       " 881475,\n",
       " 893550,\n",
       " 905625,\n",
       " 917700,\n",
       " 929775,\n",
       " 941850,\n",
       " 953925,\n",
       " 966000,\n",
       " 978075,\n",
       " 990150,\n",
       " 1002225,\n",
       " 1014300,\n",
       " 1026375,\n",
       " 1038450,\n",
       " 1050525,\n",
       " 1062600,\n",
       " 1074675,\n",
       " 1086750,\n",
       " 1098825,\n",
       " 1110900,\n",
       " 1122975,\n",
       " 1135050,\n",
       " 1147125,\n",
       " 1159200,\n",
       " 1171275,\n",
       " 1183350,\n",
       " 1195425,\n",
       " 1207500,\n",
       " 1219575,\n",
       " 1231650,\n",
       " 1243725,\n",
       " 1255800,\n",
       " 1267875,\n",
       " 1279950,\n",
       " 1292025,\n",
       " 1304100,\n",
       " 1316175,\n",
       " 1328250,\n",
       " 1340325,\n",
       " 1352400,\n",
       " 1364475,\n",
       " 1376550,\n",
       " 1388625,\n",
       " 1400700,\n",
       " 1412775,\n",
       " 1424850,\n",
       " 1436925,\n",
       " 1449000,\n",
       " 1461075,\n",
       " 1473150,\n",
       " 1485225,\n",
       " 1497300,\n",
       " 1509375,\n",
       " 1521450,\n",
       " 1533525,\n",
       " 1545600,\n",
       " 1557675,\n",
       " 1569750,\n",
       " 1581825,\n",
       " 1593900,\n",
       " 1605975,\n",
       " 1618050,\n",
       " 1630125,\n",
       " 1642200,\n",
       " 1654275,\n",
       " 1666350,\n",
       " 1678425,\n",
       " 1690500,\n",
       " 1702575,\n",
       " 1714650,\n",
       " 1726725,\n",
       " 1738800,\n",
       " 1750875,\n",
       " 1762950,\n",
       " 1775025,\n",
       " 1787100,\n",
       " 1799175,\n",
       " 1811250,\n",
       " 1823325,\n",
       " 1835400,\n",
       " 1847475,\n",
       " 1859550,\n",
       " 1871625,\n",
       " 1883700,\n",
       " 1895775,\n",
       " 1907850,\n",
       " 1919925,\n",
       " 1932000,\n",
       " 1944075,\n",
       " 1956150,\n",
       " 1968225,\n",
       " 1980300,\n",
       " 1992375,\n",
       " 2004450,\n",
       " 2016525,\n",
       " 2028600,\n",
       " 2040675,\n",
       " 2052750,\n",
       " 2064825,\n",
       " 2076900,\n",
       " 2088975,\n",
       " 2101050,\n",
       " 2113125,\n",
       " 2125200,\n",
       " 2137275,\n",
       " 2149350,\n",
       " 2161425,\n",
       " 2173500,\n",
       " 2185575,\n",
       " 2197650,\n",
       " 2209725,\n",
       " 2221800,\n",
       " 2233875,\n",
       " 2245950,\n",
       " 2258025,\n",
       " 2270100,\n",
       " 2282175,\n",
       " 2294250,\n",
       " 2306325,\n",
       " 2318400,\n",
       " 2330475,\n",
       " 2342550,\n",
       " 2354625,\n",
       " 2366700,\n",
       " 2378775,\n",
       " 2390850,\n",
       " 2402925,\n",
       " 2415000,\n",
       " 2427075,\n",
       " 2439150,\n",
       " 2451225,\n",
       " 2463300,\n",
       " 2475375,\n",
       " 2487450,\n",
       " 2499525,\n",
       " 2511600,\n",
       " 2523675,\n",
       " 2535750,\n",
       " 2547825,\n",
       " 2559900,\n",
       " 2571975,\n",
       " 2584050,\n",
       " 2596125,\n",
       " 2608200,\n",
       " 2620275,\n",
       " 2632350,\n",
       " 2644425,\n",
       " 2656500,\n",
       " 2668575,\n",
       " 2680650,\n",
       " 2692725,\n",
       " 2704800,\n",
       " 2716875,\n",
       " 2728950,\n",
       " 2741025,\n",
       " 2753100,\n",
       " 2765175,\n",
       " 2777250,\n",
       " 2789325,\n",
       " 2801400,\n",
       " 2813475,\n",
       " 2825550,\n",
       " 2837625,\n",
       " 2849700,\n",
       " 2861775,\n",
       " 2873850,\n",
       " 2885925,\n",
       " 2898000,\n",
       " 2910075,\n",
       " 2922150,\n",
       " 2934225,\n",
       " 2946300,\n",
       " 2958375,\n",
       " 2970450,\n",
       " 2982525,\n",
       " 2994600,\n",
       " 3006675,\n",
       " 3018750,\n",
       " 3030825,\n",
       " 3042900,\n",
       " 3054975,\n",
       " 3067050,\n",
       " 3079125,\n",
       " 3091200,\n",
       " 3103275,\n",
       " 3115350,\n",
       " 3127425,\n",
       " 3139500,\n",
       " 3151575,\n",
       " 3163650,\n",
       " 3175725,\n",
       " 3187800,\n",
       " 3199875,\n",
       " 3211950,\n",
       " 3224025,\n",
       " 3236100,\n",
       " 3248175,\n",
       " 3260250,\n",
       " 3272325,\n",
       " 3284400,\n",
       " 3296475,\n",
       " 3308550,\n",
       " 3320625,\n",
       " 3332700,\n",
       " 3344775,\n",
       " 3356850,\n",
       " 3368925,\n",
       " 3381000,\n",
       " 3393075,\n",
       " 3405150,\n",
       " 3417225,\n",
       " 3429300,\n",
       " 3441375,\n",
       " 3453450,\n",
       " 3465525,\n",
       " 3477600,\n",
       " 3489675,\n",
       " 3501750,\n",
       " 3513825,\n",
       " 3525900,\n",
       " 3537975,\n",
       " 3550050,\n",
       " 3562125,\n",
       " 3574200,\n",
       " 3586275,\n",
       " 3598350,\n",
       " 3610425,\n",
       " 3622500,\n",
       " 3634575,\n",
       " 3646650,\n",
       " 3658725,\n",
       " 3670800,\n",
       " 3682875,\n",
       " 3694950,\n",
       " 3707025,\n",
       " 3719100,\n",
       " 3731175,\n",
       " 3743250,\n",
       " 3755325,\n",
       " 3767400,\n",
       " 3779475,\n",
       " 3791550,\n",
       " 3803625,\n",
       " 3815700,\n",
       " 3827775,\n",
       " 3839850,\n",
       " 3851925,\n",
       " 3864000,\n",
       " 3876075,\n",
       " 3888150,\n",
       " 3900225,\n",
       " 3912300,\n",
       " 3924375,\n",
       " 3936450,\n",
       " 3948525,\n",
       " 3960600,\n",
       " 3972675,\n",
       " 3984750,\n",
       " 3996825,\n",
       " 4008900,\n",
       " 4020975,\n",
       " 4033050,\n",
       " 4045125,\n",
       " 4057200,\n",
       " 4069275,\n",
       " 4081350,\n",
       " 4093425,\n",
       " 4105500,\n",
       " 4117575,\n",
       " 4129650,\n",
       " 4141725,\n",
       " 4153800,\n",
       " 4165875,\n",
       " 4177950,\n",
       " 4190025,\n",
       " 4202100,\n",
       " 4214175,\n",
       " 4226250,\n",
       " 4238325,\n",
       " 4250400,\n",
       " 4262475,\n",
       " 4274550,\n",
       " 4286625,\n",
       " 4298700,\n",
       " 4310775,\n",
       " 4322850,\n",
       " 4334925,\n",
       " 4347000,\n",
       " 4359075,\n",
       " 4371150,\n",
       " 4383225,\n",
       " 4395300,\n",
       " 4407375,\n",
       " 4419450,\n",
       " 4431525,\n",
       " 4443600,\n",
       " 4455675,\n",
       " 4467750,\n",
       " 4479825,\n",
       " 4491900,\n",
       " 4503975,\n",
       " 4516050,\n",
       " 4528125,\n",
       " 4540200,\n",
       " 4552275,\n",
       " 4564350,\n",
       " 4576425,\n",
       " 4588500,\n",
       " 4600575,\n",
       " 4612650,\n",
       " 4624725,\n",
       " 4636800,\n",
       " 4648875,\n",
       " 4660950,\n",
       " 4673025,\n",
       " 4685100,\n",
       " 4697175,\n",
       " 4709250,\n",
       " 4721325,\n",
       " 4733400,\n",
       " 4745475,\n",
       " 4757550,\n",
       " 4769625,\n",
       " 4781700,\n",
       " 4793775,\n",
       " 4805850,\n",
       " 4817925,\n",
       " 4830000,\n",
       " 4842075,\n",
       " 4854150,\n",
       " 4866225,\n",
       " 4878300,\n",
       " 4890375,\n",
       " 4902450,\n",
       " 4914525,\n",
       " 4926600,\n",
       " 4938675,\n",
       " 4950750,\n",
       " 4962825,\n",
       " 4974900,\n",
       " 4986975,\n",
       " 4999050,\n",
       " 5011125,\n",
       " 5023200,\n",
       " 5035275,\n",
       " 5047350,\n",
       " 5059425,\n",
       " 5071500,\n",
       " 5083575,\n",
       " 5095650,\n",
       " 5107725,\n",
       " 5119800,\n",
       " 5131875,\n",
       " 5143950,\n",
       " 5156025,\n",
       " 5168100,\n",
       " 5180175,\n",
       " 5192250,\n",
       " 5204325,\n",
       " 5216400,\n",
       " 5228475,\n",
       " 5240550,\n",
       " 5252625,\n",
       " 5264700,\n",
       " 5276775,\n",
       " 5288850,\n",
       " 5300925,\n",
       " 5313000,\n",
       " 5325075,\n",
       " 5337150,\n",
       " 5349225,\n",
       " 5361300,\n",
       " 5373375,\n",
       " 5385450,\n",
       " 5397525,\n",
       " 5409600,\n",
       " 5421675,\n",
       " 5433750,\n",
       " 5445825,\n",
       " 5457900,\n",
       " 5469975,\n",
       " 5482050,\n",
       " 5494125,\n",
       " 5506200,\n",
       " 5518275,\n",
       " 5530350,\n",
       " 5542425,\n",
       " 5554500,\n",
       " 5566575,\n",
       " 5578650,\n",
       " 5590725,\n",
       " 5602800,\n",
       " 5614875,\n",
       " 5626950,\n",
       " 5639025,\n",
       " 5651100,\n",
       " 5663175,\n",
       " 5675250,\n",
       " 5687325,\n",
       " 5699400,\n",
       " 5711475,\n",
       " 5723550,\n",
       " 5735625,\n",
       " 5747700,\n",
       " 5759775,\n",
       " 5771850,\n",
       " 5783925,\n",
       " 5796000,\n",
       " 5808075,\n",
       " 5820150,\n",
       " 5832225,\n",
       " 5844300,\n",
       " 5856375,\n",
       " 5868450,\n",
       " 5880525,\n",
       " 5892600,\n",
       " 5904675,\n",
       " 5916750,\n",
       " 5928825,\n",
       " 5940900,\n",
       " 5952975,\n",
       " 5965050,\n",
       " 5977125,\n",
       " 5989200,\n",
       " 6001275,\n",
       " 6013350,\n",
       " 6025425,\n",
       " 6037500,\n",
       " 6049575,\n",
       " 6061650,\n",
       " 6073725,\n",
       " 6085800,\n",
       " 6097875,\n",
       " 6109950,\n",
       " 6122025,\n",
       " 6134100,\n",
       " 6146175,\n",
       " 6158250,\n",
       " 6170325,\n",
       " 6182400,\n",
       " 6194475,\n",
       " 6206550,\n",
       " 6218625,\n",
       " 6230700,\n",
       " 6242775,\n",
       " 6254850,\n",
       " 6266925,\n",
       " 6279000,\n",
       " 6291075,\n",
       " 6303150,\n",
       " 6315225,\n",
       " 6327300,\n",
       " 6339375,\n",
       " 6351450,\n",
       " 6363525,\n",
       " 6375600,\n",
       " 6387675,\n",
       " 6399750,\n",
       " 6411825,\n",
       " 6423900,\n",
       " 6435975,\n",
       " 6448050,\n",
       " 6460125,\n",
       " 6472200,\n",
       " 6484275,\n",
       " 6496350,\n",
       " 6508425,\n",
       " 6520500,\n",
       " 6532575,\n",
       " 6544650,\n",
       " 6556725,\n",
       " 6568800,\n",
       " 6580875,\n",
       " 6592950,\n",
       " 6605025,\n",
       " 6617100,\n",
       " 6629175,\n",
       " 6641250,\n",
       " 6653325,\n",
       " 6665400,\n",
       " 6677475,\n",
       " 6689550,\n",
       " 6701625,\n",
       " 6713700,\n",
       " 6725775,\n",
       " 6737850,\n",
       " 6749925,\n",
       " 6762000,\n",
       " 6774075,\n",
       " 6786150,\n",
       " 6798225,\n",
       " 6810300,\n",
       " 6822375,\n",
       " 6834450,\n",
       " 6846525,\n",
       " 6858600,\n",
       " 6870675,\n",
       " 6882750,\n",
       " 6894825,\n",
       " 6906900,\n",
       " 6918975,\n",
       " 6931050,\n",
       " 6943125,\n",
       " 6955200,\n",
       " 6967275,\n",
       " 6979350,\n",
       " 6991425,\n",
       " 7003500,\n",
       " 7015575,\n",
       " 7027650,\n",
       " 7039725,\n",
       " 7051800,\n",
       " 7063875,\n",
       " 7075950,\n",
       " 7088025,\n",
       " 7100100,\n",
       " 7112175,\n",
       " 7124250,\n",
       " 7136325,\n",
       " 7148400,\n",
       " 7160475,\n",
       " 7172550,\n",
       " 7184625,\n",
       " 7196700,\n",
       " 7208775,\n",
       " 7220850,\n",
       " 7232925,\n",
       " 7245000,\n",
       " 7257075,\n",
       " 7269150,\n",
       " 7281225,\n",
       " 7293300,\n",
       " 7305375,\n",
       " 7317450,\n",
       " 7329525,\n",
       " 7341600,\n",
       " 7353675,\n",
       " 7365750,\n",
       " 7377825,\n",
       " 7389900,\n",
       " 7401975,\n",
       " 7414050,\n",
       " 7426125,\n",
       " 7438200,\n",
       " 7450275,\n",
       " 7462350,\n",
       " 7474425,\n",
       " 7486500,\n",
       " 7498575,\n",
       " 7510650,\n",
       " 7522725,\n",
       " 7534800,\n",
       " 7546875,\n",
       " 7558950,\n",
       " 7571025,\n",
       " 7583100,\n",
       " 7595175,\n",
       " 7607250,\n",
       " 7619325,\n",
       " 7631400,\n",
       " 7643475,\n",
       " 7655550,\n",
       " 7667625,\n",
       " 7679700,\n",
       " 7691775,\n",
       " 7703850,\n",
       " 7715925,\n",
       " 7728000,\n",
       " 7740075,\n",
       " 7752150,\n",
       " 7764225,\n",
       " 7776300,\n",
       " 7788375,\n",
       " 7800450,\n",
       " 7812525,\n",
       " 7824600,\n",
       " 7836675,\n",
       " 7848750,\n",
       " 7860825,\n",
       " 7872900,\n",
       " 7884975,\n",
       " 7897050,\n",
       " 7909125,\n",
       " 7921200,\n",
       " 7933275,\n",
       " 7945350,\n",
       " 7957425,\n",
       " 7969500,\n",
       " 7981575,\n",
       " 7993650,\n",
       " 8005725,\n",
       " 8017800,\n",
       " 8029875,\n",
       " 8041950,\n",
       " 8054025,\n",
       " 8066100,\n",
       " 8078175,\n",
       " 8090250,\n",
       " 8102325,\n",
       " 8114400,\n",
       " 8126475,\n",
       " 8138550,\n",
       " 8150625,\n",
       " 8162700,\n",
       " 8174775,\n",
       " 8186850,\n",
       " 8198925,\n",
       " 8211000,\n",
       " 8223075,\n",
       " 8235150,\n",
       " 8247225,\n",
       " 8259300,\n",
       " 8271375,\n",
       " 8283450,\n",
       " 8295525,\n",
       " 8307600,\n",
       " 8319675,\n",
       " 8331750,\n",
       " 8343825,\n",
       " 8355900,\n",
       " 8367975,\n",
       " 8380050,\n",
       " 8392125,\n",
       " 8404200,\n",
       " 8416275,\n",
       " 8428350,\n",
       " 8440425,\n",
       " 8452500,\n",
       " 8464575,\n",
       " 8476650,\n",
       " 8488725,\n",
       " 8500800,\n",
       " 8512875,\n",
       " 8524950,\n",
       " 8537025,\n",
       " 8549100,\n",
       " 8561175,\n",
       " 8573250,\n",
       " 8585325,\n",
       " 8597400,\n",
       " 8609475,\n",
       " 8621550,\n",
       " 8633625,\n",
       " 8645700,\n",
       " 8657775,\n",
       " 8669850,\n",
       " 8681925,\n",
       " 8694000,\n",
       " 8706075,\n",
       " 8718150,\n",
       " 8730225,\n",
       " 8742300,\n",
       " 8754375,\n",
       " 8766450,\n",
       " 8778525,\n",
       " 8790600,\n",
       " 8802675,\n",
       " 8814750,\n",
       " 8826825,\n",
       " 8838900,\n",
       " 8850975,\n",
       " 8863050,\n",
       " 8875125,\n",
       " 8887200,\n",
       " 8899275,\n",
       " 8911350,\n",
       " 8923425,\n",
       " 8935500,\n",
       " 8947575,\n",
       " 8959650,\n",
       " 8971725,\n",
       " 8983800,\n",
       " 8995875,\n",
       " 9007950,\n",
       " 9020025,\n",
       " 9032100,\n",
       " 9044175,\n",
       " 9056250,\n",
       " 9068325,\n",
       " 9080400,\n",
       " 9092475,\n",
       " 9104550,\n",
       " 9116625,\n",
       " 9128700,\n",
       " 9140775,\n",
       " 9152850,\n",
       " 9164925,\n",
       " 9177000,\n",
       " 9189075,\n",
       " 9201150,\n",
       " 9213225,\n",
       " 9225300,\n",
       " 9237375,\n",
       " 9249450,\n",
       " 9261525,\n",
       " 9273600,\n",
       " 9285675,\n",
       " 9297750,\n",
       " 9309825,\n",
       " 9321900,\n",
       " 9333975,\n",
       " 9346050,\n",
       " 9358125,\n",
       " 9370200,\n",
       " 9382275,\n",
       " 9394350,\n",
       " 9406425,\n",
       " 9418500,\n",
       " 9430575,\n",
       " 9442650,\n",
       " 9454725,\n",
       " 9466800,\n",
       " 9478875,\n",
       " 9490950,\n",
       " 9503025,\n",
       " 9515100,\n",
       " 9527175,\n",
       " 9539250,\n",
       " 9551325,\n",
       " 9563400,\n",
       " 9575475,\n",
       " 9587550,\n",
       " 9599625,\n",
       " 9611700,\n",
       " 9623775,\n",
       " 9635850,\n",
       " 9647925,\n",
       " 9660000,\n",
       " 9672075,\n",
       " 9684150,\n",
       " 9696225,\n",
       " 9708300,\n",
       " 9720375,\n",
       " 9732450,\n",
       " 9744525,\n",
       " 9756600,\n",
       " 9768675,\n",
       " 9780750,\n",
       " 9792825,\n",
       " 9804900,\n",
       " 9816975,\n",
       " 9829050,\n",
       " 9841125,\n",
       " 9853200,\n",
       " 9865275,\n",
       " 9877350,\n",
       " 9889425,\n",
       " 9901500,\n",
       " 9913575,\n",
       " 9925650,\n",
       " 9937725,\n",
       " 9949800,\n",
       " 9961875,\n",
       " 9973950,\n",
       " 9986025,\n",
       " 9998100]"
      ]
     },
     "execution_count": 195,
     "metadata": {},
     "output_type": "execute_result"
    }
   ],
   "source": [
    "[i for i in range(10000000) if (i%10.5 == 0 and i%11.5==0 and i%12.5==0)]"
   ]
  },
  {
   "cell_type": "code",
   "execution_count": 200,
   "metadata": {},
   "outputs": [
    {
     "data": {
      "text/plain": [
       "[array([6, 7, 8, 0, 6, 7, 8, 1, 6, 7, 8, 2, 6, 7, 8, 3, 6, 7, 8, 4, 6, 7,\n",
       "        8, 5, 6, 7, 8, 6, 6, 7, 8, 7, 6, 7, 8, 8, 6, 7, 8, 9, 0, 6, 7, 8,\n",
       "        0, 6, 7, 8, 1, 6, 7, 8, 2, 6, 7, 8, 3, 6, 7, 8, 4, 6, 7, 8, 5, 6,\n",
       "        7, 8, 6, 6, 7, 8, 7, 6, 7, 8, 8, 6, 7, 8, 9, 1, 6, 7, 8, 0, 6, 7,\n",
       "        8, 1, 6, 7, 8, 2, 6, 7, 8, 3, 6, 7, 8, 4, 6, 7, 8, 5, 6, 7, 8, 6,\n",
       "        6, 7, 8, 7, 6, 7, 8, 8, 6, 7, 8, 9, 2, 6, 7, 8, 0, 6, 7, 8, 1, 6,\n",
       "        7, 8, 2, 6, 7, 8, 3, 6, 7, 8, 4, 6, 7, 8, 5, 6, 7, 8, 6, 6, 7, 8,\n",
       "        7, 6, 7, 8, 8, 6, 7, 8, 9, 3, 6, 7, 8, 0, 6, 7, 8, 1, 6, 7, 8, 2,\n",
       "        6, 7, 8, 3, 6, 7, 8, 4, 6, 7, 8, 5, 6, 7, 8, 6, 6, 7, 8, 7, 6, 7,\n",
       "        8, 8, 6, 7, 8, 9, 4, 6, 7, 8, 0, 6, 7, 8, 1, 6, 7, 8, 2, 6, 7, 8,\n",
       "        3, 6, 7, 8, 4, 6, 7, 8, 5, 6, 7, 8, 6, 6, 7, 8, 7, 6, 7, 8, 8, 6,\n",
       "        7, 8, 9, 5, 6, 7, 8, 0, 6, 7, 8, 1, 6, 7, 8, 2, 6, 7, 8, 3, 6, 7,\n",
       "        8, 4, 6, 7, 8, 5, 6, 7, 8, 6, 6, 7, 8, 7, 6, 7, 8, 8, 6, 7, 8, 9,\n",
       "        6, 6, 7, 8, 0, 6, 7, 8, 1, 6, 7, 8, 2, 6, 7, 8, 3, 6, 7, 8, 4, 6,\n",
       "        7, 8, 5, 6, 7, 8, 6, 6, 7, 8, 7, 6, 7, 8, 8, 6, 7, 8, 9, 7, 6, 7,\n",
       "        8, 0, 6, 7, 8, 1, 6, 7, 8, 2, 6, 7, 8, 3, 6, 7, 8, 4, 6, 7, 8, 5,\n",
       "        6, 7, 8, 6, 6, 7, 8, 7, 6, 7, 8, 8, 6, 7, 8, 9, 8, 6, 7, 8, 0, 6,\n",
       "        7, 8, 1, 6, 7, 8, 2, 6, 7, 8, 3, 6, 7, 8, 4, 6, 7, 8, 5, 6, 7, 8,\n",
       "        6, 6, 7, 8, 7, 6, 7, 8, 8, 6, 7, 8, 9, 9, 0]),\n",
       " array([6, 7, 8, 0, 6, 7, 8, 1, 6, 7, 8, 2, 6, 7, 8, 3, 6, 7, 8, 4, 6, 7,\n",
       "        8, 5, 6, 7, 8, 6, 6, 7, 8, 7, 6, 7, 8, 8, 6, 7, 8, 9, 0, 6, 7, 8,\n",
       "        0, 6, 7, 8, 1, 6, 7, 8, 2, 6, 7, 8, 3, 6, 7, 8, 4, 6, 7, 8, 5, 6,\n",
       "        7, 8, 6, 6, 7, 8, 7, 6, 7, 8, 8, 6, 7, 8, 9, 1, 6, 7, 8, 0, 6, 7,\n",
       "        8, 1, 6, 7, 8, 2, 6, 7, 8, 3, 6, 7, 8, 4, 6, 7, 8, 5, 6, 7, 8, 6,\n",
       "        6, 7, 8, 7, 6, 7, 8, 8, 6, 7, 8, 9, 2, 6, 7, 8, 0, 6, 7, 8, 1, 6,\n",
       "        7, 8, 2, 6, 7, 8, 3, 6, 7, 8, 4, 6, 7, 8, 5, 6, 7, 8, 6, 6, 7, 8,\n",
       "        7, 6, 7, 8, 8, 6, 7, 8, 9, 3, 6, 7, 8, 0, 6, 7, 8, 1, 6, 7, 8, 2,\n",
       "        6, 7, 8, 3, 6, 7, 8, 4, 6, 7, 8, 5, 6, 7, 8, 6, 6, 7, 8, 7, 6, 7,\n",
       "        8, 8, 6, 7, 8, 9, 4, 6, 7, 8, 0, 6, 7, 8, 1, 6, 7, 8, 2, 6, 7, 8,\n",
       "        3, 6, 7, 8, 4, 6, 7, 8, 5, 6, 7, 8, 6, 6, 7, 8, 7, 6, 7, 8, 8, 6,\n",
       "        7, 8, 9, 5, 6, 7, 8, 0, 6, 7, 8, 1, 6, 7, 8, 2, 6, 7, 8, 3, 6, 7,\n",
       "        8, 4, 6, 7, 8, 5, 6, 7, 8, 6, 6, 7, 8, 7, 6, 7, 8, 8, 6, 7, 8, 9,\n",
       "        6, 6, 7, 8, 0, 6, 7, 8, 1, 6, 7, 8, 2, 6, 7, 8, 3, 6, 7, 8, 4, 6,\n",
       "        7, 8, 5, 6, 7, 8, 6, 6, 7, 8, 7, 6, 7, 8, 8, 6, 7, 8, 9, 7, 6, 7,\n",
       "        8, 0, 6, 7, 8, 1, 6, 7, 8, 2, 6, 7, 8, 3, 6, 7, 8, 4, 6, 7, 8, 5,\n",
       "        6, 7, 8, 6, 6, 7, 8, 7, 6, 7, 8, 8, 6, 7, 8, 9, 8, 6, 7, 8, 0, 6,\n",
       "        7, 8, 1, 6, 7, 8, 2, 6, 7, 8, 3, 6, 7, 8, 4, 6, 7, 8, 5, 6, 7, 8,\n",
       "        6, 6, 7, 8, 7, 6, 7, 8, 8, 6, 7, 8, 9, 9, 1]),\n",
       " array([6, 7, 8, 0, 6, 7, 8, 1, 6, 7, 8, 2, 6, 7, 8, 3, 6, 7, 8, 4, 6, 7,\n",
       "        8, 5, 6, 7, 8, 6, 6, 7, 8, 7, 6, 7, 8, 8, 6, 7, 8, 9, 0, 6, 7, 8,\n",
       "        0, 6, 7, 8, 1, 6, 7, 8, 2, 6, 7, 8, 3, 6, 7, 8, 4, 6, 7, 8, 5, 6,\n",
       "        7, 8, 6, 6, 7, 8, 7, 6, 7, 8, 8, 6, 7, 8, 9, 1, 6, 7, 8, 0, 6, 7,\n",
       "        8, 1, 6, 7, 8, 2, 6, 7, 8, 3, 6, 7, 8, 4, 6, 7, 8, 5, 6, 7, 8, 6,\n",
       "        6, 7, 8, 7, 6, 7, 8, 8, 6, 7, 8, 9, 2, 6, 7, 8, 0, 6, 7, 8, 1, 6,\n",
       "        7, 8, 2, 6, 7, 8, 3, 6, 7, 8, 4, 6, 7, 8, 5, 6, 7, 8, 6, 6, 7, 8,\n",
       "        7, 6, 7, 8, 8, 6, 7, 8, 9, 3, 6, 7, 8, 0, 6, 7, 8, 1, 6, 7, 8, 2,\n",
       "        6, 7, 8, 3, 6, 7, 8, 4, 6, 7, 8, 5, 6, 7, 8, 6, 6, 7, 8, 7, 6, 7,\n",
       "        8, 8, 6, 7, 8, 9, 4, 6, 7, 8, 0, 6, 7, 8, 1, 6, 7, 8, 2, 6, 7, 8,\n",
       "        3, 6, 7, 8, 4, 6, 7, 8, 5, 6, 7, 8, 6, 6, 7, 8, 7, 6, 7, 8, 8, 6,\n",
       "        7, 8, 9, 5, 6, 7, 8, 0, 6, 7, 8, 1, 6, 7, 8, 2, 6, 7, 8, 3, 6, 7,\n",
       "        8, 4, 6, 7, 8, 5, 6, 7, 8, 6, 6, 7, 8, 7, 6, 7, 8, 8, 6, 7, 8, 9,\n",
       "        6, 6, 7, 8, 0, 6, 7, 8, 1, 6, 7, 8, 2, 6, 7, 8, 3, 6, 7, 8, 4, 6,\n",
       "        7, 8, 5, 6, 7, 8, 6, 6, 7, 8, 7, 6, 7, 8, 8, 6, 7, 8, 9, 7, 6, 7,\n",
       "        8, 0, 6, 7, 8, 1, 6, 7, 8, 2, 6, 7, 8, 3, 6, 7, 8, 4, 6, 7, 8, 5,\n",
       "        6, 7, 8, 6, 6, 7, 8, 7, 6, 7, 8, 8, 6, 7, 8, 9, 8, 6, 7, 8, 0, 6,\n",
       "        7, 8, 1, 6, 7, 8, 2, 6, 7, 8, 3, 6, 7, 8, 4, 6, 7, 8, 5, 6, 7, 8,\n",
       "        6, 6, 7, 8, 7, 6, 7, 8, 8, 6, 7, 8, 9, 9, 2]),\n",
       " array([6, 7, 8, 0, 6, 7, 8, 1, 6, 7, 8, 2, 6, 7, 8, 3, 6, 7, 8, 4, 6, 7,\n",
       "        8, 5, 6, 7, 8, 6, 6, 7, 8, 7, 6, 7, 8, 8, 6, 7, 8, 9, 0, 6, 7, 8,\n",
       "        0, 6, 7, 8, 1, 6, 7, 8, 2, 6, 7, 8, 3, 6, 7, 8, 4, 6, 7, 8, 5, 6,\n",
       "        7, 8, 6, 6, 7, 8, 7, 6, 7, 8, 8, 6, 7, 8, 9, 1, 6, 7, 8, 0, 6, 7,\n",
       "        8, 1, 6, 7, 8, 2, 6, 7, 8, 3, 6, 7, 8, 4, 6, 7, 8, 5, 6, 7, 8, 6,\n",
       "        6, 7, 8, 7, 6, 7, 8, 8, 6, 7, 8, 9, 2, 6, 7, 8, 0, 6, 7, 8, 1, 6,\n",
       "        7, 8, 2, 6, 7, 8, 3, 6, 7, 8, 4, 6, 7, 8, 5, 6, 7, 8, 6, 6, 7, 8,\n",
       "        7, 6, 7, 8, 8, 6, 7, 8, 9, 3, 6, 7, 8, 0, 6, 7, 8, 1, 6, 7, 8, 2,\n",
       "        6, 7, 8, 3, 6, 7, 8, 4, 6, 7, 8, 5, 6, 7, 8, 6, 6, 7, 8, 7, 6, 7,\n",
       "        8, 8, 6, 7, 8, 9, 4, 6, 7, 8, 0, 6, 7, 8, 1, 6, 7, 8, 2, 6, 7, 8,\n",
       "        3, 6, 7, 8, 4, 6, 7, 8, 5, 6, 7, 8, 6, 6, 7, 8, 7, 6, 7, 8, 8, 6,\n",
       "        7, 8, 9, 5, 6, 7, 8, 0, 6, 7, 8, 1, 6, 7, 8, 2, 6, 7, 8, 3, 6, 7,\n",
       "        8, 4, 6, 7, 8, 5, 6, 7, 8, 6, 6, 7, 8, 7, 6, 7, 8, 8, 6, 7, 8, 9,\n",
       "        6, 6, 7, 8, 0, 6, 7, 8, 1, 6, 7, 8, 2, 6, 7, 8, 3, 6, 7, 8, 4, 6,\n",
       "        7, 8, 5, 6, 7, 8, 6, 6, 7, 8, 7, 6, 7, 8, 8, 6, 7, 8, 9, 7, 6, 7,\n",
       "        8, 0, 6, 7, 8, 1, 6, 7, 8, 2, 6, 7, 8, 3, 6, 7, 8, 4, 6, 7, 8, 5,\n",
       "        6, 7, 8, 6, 6, 7, 8, 7, 6, 7, 8, 8, 6, 7, 8, 9, 8, 6, 7, 8, 0, 6,\n",
       "        7, 8, 1, 6, 7, 8, 2, 6, 7, 8, 3, 6, 7, 8, 4, 6, 7, 8, 5, 6, 7, 8,\n",
       "        6, 6, 7, 8, 7, 6, 7, 8, 8, 6, 7, 8, 9, 9, 3]),\n",
       " array([6, 7, 8, 0, 6, 7, 8, 1, 6, 7, 8, 2, 6, 7, 8, 3, 6, 7, 8, 4, 6, 7,\n",
       "        8, 5, 6, 7, 8, 6, 6, 7, 8, 7, 6, 7, 8, 8, 6, 7, 8, 9, 0, 6, 7, 8,\n",
       "        0, 6, 7, 8, 1, 6, 7, 8, 2, 6, 7, 8, 3, 6, 7, 8, 4, 6, 7, 8, 5, 6,\n",
       "        7, 8, 6, 6, 7, 8, 7, 6, 7, 8, 8, 6, 7, 8, 9, 1, 6, 7, 8, 0, 6, 7,\n",
       "        8, 1, 6, 7, 8, 2, 6, 7, 8, 3, 6, 7, 8, 4, 6, 7, 8, 5, 6, 7, 8, 6,\n",
       "        6, 7, 8, 7, 6, 7, 8, 8, 6, 7, 8, 9, 2, 6, 7, 8, 0, 6, 7, 8, 1, 6,\n",
       "        7, 8, 2, 6, 7, 8, 3, 6, 7, 8, 4, 6, 7, 8, 5, 6, 7, 8, 6, 6, 7, 8,\n",
       "        7, 6, 7, 8, 8, 6, 7, 8, 9, 3, 6, 7, 8, 0, 6, 7, 8, 1, 6, 7, 8, 2,\n",
       "        6, 7, 8, 3, 6, 7, 8, 4, 6, 7, 8, 5, 6, 7, 8, 6, 6, 7, 8, 7, 6, 7,\n",
       "        8, 8, 6, 7, 8, 9, 4, 6, 7, 8, 0, 6, 7, 8, 1, 6, 7, 8, 2, 6, 7, 8,\n",
       "        3, 6, 7, 8, 4, 6, 7, 8, 5, 6, 7, 8, 6, 6, 7, 8, 7, 6, 7, 8, 8, 6,\n",
       "        7, 8, 9, 5, 6, 7, 8, 0, 6, 7, 8, 1, 6, 7, 8, 2, 6, 7, 8, 3, 6, 7,\n",
       "        8, 4, 6, 7, 8, 5, 6, 7, 8, 6, 6, 7, 8, 7, 6, 7, 8, 8, 6, 7, 8, 9,\n",
       "        6, 6, 7, 8, 0, 6, 7, 8, 1, 6, 7, 8, 2, 6, 7, 8, 3, 6, 7, 8, 4, 6,\n",
       "        7, 8, 5, 6, 7, 8, 6, 6, 7, 8, 7, 6, 7, 8, 8, 6, 7, 8, 9, 7, 6, 7,\n",
       "        8, 0, 6, 7, 8, 1, 6, 7, 8, 2, 6, 7, 8, 3, 6, 7, 8, 4, 6, 7, 8, 5,\n",
       "        6, 7, 8, 6, 6, 7, 8, 7, 6, 7, 8, 8, 6, 7, 8, 9, 8, 6, 7, 8, 0, 6,\n",
       "        7, 8, 1, 6, 7, 8, 2, 6, 7, 8, 3, 6, 7, 8, 4, 6, 7, 8, 5, 6, 7, 8,\n",
       "        6, 6, 7, 8, 7, 6, 7, 8, 8, 6, 7, 8, 9, 9, 4]),\n",
       " array([6, 7, 8, 0, 6, 7, 8, 1, 6, 7, 8, 2, 6, 7, 8, 3, 6, 7, 8, 4, 6, 7,\n",
       "        8, 5, 6, 7, 8, 6, 6, 7, 8, 7, 6, 7, 8, 8, 6, 7, 8, 9, 0, 6, 7, 8,\n",
       "        0, 6, 7, 8, 1, 6, 7, 8, 2, 6, 7, 8, 3, 6, 7, 8, 4, 6, 7, 8, 5, 6,\n",
       "        7, 8, 6, 6, 7, 8, 7, 6, 7, 8, 8, 6, 7, 8, 9, 1, 6, 7, 8, 0, 6, 7,\n",
       "        8, 1, 6, 7, 8, 2, 6, 7, 8, 3, 6, 7, 8, 4, 6, 7, 8, 5, 6, 7, 8, 6,\n",
       "        6, 7, 8, 7, 6, 7, 8, 8, 6, 7, 8, 9, 2, 6, 7, 8, 0, 6, 7, 8, 1, 6,\n",
       "        7, 8, 2, 6, 7, 8, 3, 6, 7, 8, 4, 6, 7, 8, 5, 6, 7, 8, 6, 6, 7, 8,\n",
       "        7, 6, 7, 8, 8, 6, 7, 8, 9, 3, 6, 7, 8, 0, 6, 7, 8, 1, 6, 7, 8, 2,\n",
       "        6, 7, 8, 3, 6, 7, 8, 4, 6, 7, 8, 5, 6, 7, 8, 6, 6, 7, 8, 7, 6, 7,\n",
       "        8, 8, 6, 7, 8, 9, 4, 6, 7, 8, 0, 6, 7, 8, 1, 6, 7, 8, 2, 6, 7, 8,\n",
       "        3, 6, 7, 8, 4, 6, 7, 8, 5, 6, 7, 8, 6, 6, 7, 8, 7, 6, 7, 8, 8, 6,\n",
       "        7, 8, 9, 5, 6, 7, 8, 0, 6, 7, 8, 1, 6, 7, 8, 2, 6, 7, 8, 3, 6, 7,\n",
       "        8, 4, 6, 7, 8, 5, 6, 7, 8, 6, 6, 7, 8, 7, 6, 7, 8, 8, 6, 7, 8, 9,\n",
       "        6, 6, 7, 8, 0, 6, 7, 8, 1, 6, 7, 8, 2, 6, 7, 8, 3, 6, 7, 8, 4, 6,\n",
       "        7, 8, 5, 6, 7, 8, 6, 6, 7, 8, 7, 6, 7, 8, 8, 6, 7, 8, 9, 7, 6, 7,\n",
       "        8, 0, 6, 7, 8, 1, 6, 7, 8, 2, 6, 7, 8, 3, 6, 7, 8, 4, 6, 7, 8, 5,\n",
       "        6, 7, 8, 6, 6, 7, 8, 7, 6, 7, 8, 8, 6, 7, 8, 9, 8, 6, 7, 8, 0, 6,\n",
       "        7, 8, 1, 6, 7, 8, 2, 6, 7, 8, 3, 6, 7, 8, 4, 6, 7, 8, 5, 6, 7, 8,\n",
       "        6, 6, 7, 8, 7, 6, 7, 8, 8, 6, 7, 8, 9, 9, 5]),\n",
       " array([6, 7, 8, 0, 6, 7, 8, 1, 6, 7, 8, 2, 6, 7, 8, 3, 6, 7, 8, 4, 6, 7,\n",
       "        8, 5, 6, 7, 8, 6, 6, 7, 8, 7, 6, 7, 8, 8, 6, 7, 8, 9, 0, 6, 7, 8,\n",
       "        0, 6, 7, 8, 1, 6, 7, 8, 2, 6, 7, 8, 3, 6, 7, 8, 4, 6, 7, 8, 5, 6,\n",
       "        7, 8, 6, 6, 7, 8, 7, 6, 7, 8, 8, 6, 7, 8, 9, 1, 6, 7, 8, 0, 6, 7,\n",
       "        8, 1, 6, 7, 8, 2, 6, 7, 8, 3, 6, 7, 8, 4, 6, 7, 8, 5, 6, 7, 8, 6,\n",
       "        6, 7, 8, 7, 6, 7, 8, 8, 6, 7, 8, 9, 2, 6, 7, 8, 0, 6, 7, 8, 1, 6,\n",
       "        7, 8, 2, 6, 7, 8, 3, 6, 7, 8, 4, 6, 7, 8, 5, 6, 7, 8, 6, 6, 7, 8,\n",
       "        7, 6, 7, 8, 8, 6, 7, 8, 9, 3, 6, 7, 8, 0, 6, 7, 8, 1, 6, 7, 8, 2,\n",
       "        6, 7, 8, 3, 6, 7, 8, 4, 6, 7, 8, 5, 6, 7, 8, 6, 6, 7, 8, 7, 6, 7,\n",
       "        8, 8, 6, 7, 8, 9, 4, 6, 7, 8, 0, 6, 7, 8, 1, 6, 7, 8, 2, 6, 7, 8,\n",
       "        3, 6, 7, 8, 4, 6, 7, 8, 5, 6, 7, 8, 6, 6, 7, 8, 7, 6, 7, 8, 8, 6,\n",
       "        7, 8, 9, 5, 6, 7, 8, 0, 6, 7, 8, 1, 6, 7, 8, 2, 6, 7, 8, 3, 6, 7,\n",
       "        8, 4, 6, 7, 8, 5, 6, 7, 8, 6, 6, 7, 8, 7, 6, 7, 8, 8, 6, 7, 8, 9,\n",
       "        6, 6, 7, 8, 0, 6, 7, 8, 1, 6, 7, 8, 2, 6, 7, 8, 3, 6, 7, 8, 4, 6,\n",
       "        7, 8, 5, 6, 7, 8, 6, 6, 7, 8, 7, 6, 7, 8, 8, 6, 7, 8, 9, 7, 6, 7,\n",
       "        8, 0, 6, 7, 8, 1, 6, 7, 8, 2, 6, 7, 8, 3, 6, 7, 8, 4, 6, 7, 8, 5,\n",
       "        6, 7, 8, 6, 6, 7, 8, 7, 6, 7, 8, 8, 6, 7, 8, 9, 8, 6, 7, 8, 0, 6,\n",
       "        7, 8, 1, 6, 7, 8, 2, 6, 7, 8, 3, 6, 7, 8, 4, 6, 7, 8, 5, 6, 7, 8,\n",
       "        6, 6, 7, 8, 7, 6, 7, 8, 8, 6, 7, 8, 9, 9, 6]),\n",
       " array([6, 7, 8, 0, 6, 7, 8, 1, 6, 7, 8, 2, 6, 7, 8, 3, 6, 7, 8, 4, 6, 7,\n",
       "        8, 5, 6, 7, 8, 6, 6, 7, 8, 7, 6, 7, 8, 8, 6, 7, 8, 9, 0, 6, 7, 8,\n",
       "        0, 6, 7, 8, 1, 6, 7, 8, 2, 6, 7, 8, 3, 6, 7, 8, 4, 6, 7, 8, 5, 6,\n",
       "        7, 8, 6, 6, 7, 8, 7, 6, 7, 8, 8, 6, 7, 8, 9, 1, 6, 7, 8, 0, 6, 7,\n",
       "        8, 1, 6, 7, 8, 2, 6, 7, 8, 3, 6, 7, 8, 4, 6, 7, 8, 5, 6, 7, 8, 6,\n",
       "        6, 7, 8, 7, 6, 7, 8, 8, 6, 7, 8, 9, 2, 6, 7, 8, 0, 6, 7, 8, 1, 6,\n",
       "        7, 8, 2, 6, 7, 8, 3, 6, 7, 8, 4, 6, 7, 8, 5, 6, 7, 8, 6, 6, 7, 8,\n",
       "        7, 6, 7, 8, 8, 6, 7, 8, 9, 3, 6, 7, 8, 0, 6, 7, 8, 1, 6, 7, 8, 2,\n",
       "        6, 7, 8, 3, 6, 7, 8, 4, 6, 7, 8, 5, 6, 7, 8, 6, 6, 7, 8, 7, 6, 7,\n",
       "        8, 8, 6, 7, 8, 9, 4, 6, 7, 8, 0, 6, 7, 8, 1, 6, 7, 8, 2, 6, 7, 8,\n",
       "        3, 6, 7, 8, 4, 6, 7, 8, 5, 6, 7, 8, 6, 6, 7, 8, 7, 6, 7, 8, 8, 6,\n",
       "        7, 8, 9, 5, 6, 7, 8, 0, 6, 7, 8, 1, 6, 7, 8, 2, 6, 7, 8, 3, 6, 7,\n",
       "        8, 4, 6, 7, 8, 5, 6, 7, 8, 6, 6, 7, 8, 7, 6, 7, 8, 8, 6, 7, 8, 9,\n",
       "        6, 6, 7, 8, 0, 6, 7, 8, 1, 6, 7, 8, 2, 6, 7, 8, 3, 6, 7, 8, 4, 6,\n",
       "        7, 8, 5, 6, 7, 8, 6, 6, 7, 8, 7, 6, 7, 8, 8, 6, 7, 8, 9, 7, 6, 7,\n",
       "        8, 0, 6, 7, 8, 1, 6, 7, 8, 2, 6, 7, 8, 3, 6, 7, 8, 4, 6, 7, 8, 5,\n",
       "        6, 7, 8, 6, 6, 7, 8, 7, 6, 7, 8, 8, 6, 7, 8, 9, 8, 6, 7, 8, 0, 6,\n",
       "        7, 8, 1, 6, 7, 8, 2, 6, 7, 8, 3, 6, 7, 8, 4, 6, 7, 8, 5, 6, 7, 8,\n",
       "        6, 6, 7, 8, 7, 6, 7, 8, 8, 6, 7, 8, 9, 9, 7]),\n",
       " array([6, 7, 8, 0, 6, 7, 8, 1, 6, 7, 8, 2, 6, 7, 8, 3, 6, 7, 8, 4, 6, 7,\n",
       "        8, 5, 6, 7, 8, 6, 6, 7, 8, 7, 6, 7, 8, 8, 6, 7, 8, 9, 0, 6, 7, 8,\n",
       "        0, 6, 7, 8, 1, 6, 7, 8, 2, 6, 7, 8, 3, 6, 7, 8, 4, 6, 7, 8, 5, 6,\n",
       "        7, 8, 6, 6, 7, 8, 7, 6, 7, 8, 8, 6, 7, 8, 9, 1, 6, 7, 8, 0, 6, 7,\n",
       "        8, 1, 6, 7, 8, 2, 6, 7, 8, 3, 6, 7, 8, 4, 6, 7, 8, 5, 6, 7, 8, 6,\n",
       "        6, 7, 8, 7, 6, 7, 8, 8, 6, 7, 8, 9, 2, 6, 7, 8, 0, 6, 7, 8, 1, 6,\n",
       "        7, 8, 2, 6, 7, 8, 3, 6, 7, 8, 4, 6, 7, 8, 5, 6, 7, 8, 6, 6, 7, 8,\n",
       "        7, 6, 7, 8, 8, 6, 7, 8, 9, 3, 6, 7, 8, 0, 6, 7, 8, 1, 6, 7, 8, 2,\n",
       "        6, 7, 8, 3, 6, 7, 8, 4, 6, 7, 8, 5, 6, 7, 8, 6, 6, 7, 8, 7, 6, 7,\n",
       "        8, 8, 6, 7, 8, 9, 4, 6, 7, 8, 0, 6, 7, 8, 1, 6, 7, 8, 2, 6, 7, 8,\n",
       "        3, 6, 7, 8, 4, 6, 7, 8, 5, 6, 7, 8, 6, 6, 7, 8, 7, 6, 7, 8, 8, 6,\n",
       "        7, 8, 9, 5, 6, 7, 8, 0, 6, 7, 8, 1, 6, 7, 8, 2, 6, 7, 8, 3, 6, 7,\n",
       "        8, 4, 6, 7, 8, 5, 6, 7, 8, 6, 6, 7, 8, 7, 6, 7, 8, 8, 6, 7, 8, 9,\n",
       "        6, 6, 7, 8, 0, 6, 7, 8, 1, 6, 7, 8, 2, 6, 7, 8, 3, 6, 7, 8, 4, 6,\n",
       "        7, 8, 5, 6, 7, 8, 6, 6, 7, 8, 7, 6, 7, 8, 8, 6, 7, 8, 9, 7, 6, 7,\n",
       "        8, 0, 6, 7, 8, 1, 6, 7, 8, 2, 6, 7, 8, 3, 6, 7, 8, 4, 6, 7, 8, 5,\n",
       "        6, 7, 8, 6, 6, 7, 8, 7, 6, 7, 8, 8, 6, 7, 8, 9, 8, 6, 7, 8, 0, 6,\n",
       "        7, 8, 1, 6, 7, 8, 2, 6, 7, 8, 3, 6, 7, 8, 4, 6, 7, 8, 5, 6, 7, 8,\n",
       "        6, 6, 7, 8, 7, 6, 7, 8, 8, 6, 7, 8, 9, 9, 8]),\n",
       " array([6, 7, 8, 0, 6, 7, 8, 1, 6, 7, 8, 2, 6, 7, 8, 3, 6, 7, 8, 4, 6, 7,\n",
       "        8, 5, 6, 7, 8, 6, 6, 7, 8, 7, 6, 7, 8, 8, 6, 7, 8, 9, 0, 6, 7, 8,\n",
       "        0, 6, 7, 8, 1, 6, 7, 8, 2, 6, 7, 8, 3, 6, 7, 8, 4, 6, 7, 8, 5, 6,\n",
       "        7, 8, 6, 6, 7, 8, 7, 6, 7, 8, 8, 6, 7, 8, 9, 1, 6, 7, 8, 0, 6, 7,\n",
       "        8, 1, 6, 7, 8, 2, 6, 7, 8, 3, 6, 7, 8, 4, 6, 7, 8, 5, 6, 7, 8, 6,\n",
       "        6, 7, 8, 7, 6, 7, 8, 8, 6, 7, 8, 9, 2, 6, 7, 8, 0, 6, 7, 8, 1, 6,\n",
       "        7, 8, 2, 6, 7, 8, 3, 6, 7, 8, 4, 6, 7, 8, 5, 6, 7, 8, 6, 6, 7, 8,\n",
       "        7, 6, 7, 8, 8, 6, 7, 8, 9, 3, 6, 7, 8, 0, 6, 7, 8, 1, 6, 7, 8, 2,\n",
       "        6, 7, 8, 3, 6, 7, 8, 4, 6, 7, 8, 5, 6, 7, 8, 6, 6, 7, 8, 7, 6, 7,\n",
       "        8, 8, 6, 7, 8, 9, 4, 6, 7, 8, 0, 6, 7, 8, 1, 6, 7, 8, 2, 6, 7, 8,\n",
       "        3, 6, 7, 8, 4, 6, 7, 8, 5, 6, 7, 8, 6, 6, 7, 8, 7, 6, 7, 8, 8, 6,\n",
       "        7, 8, 9, 5, 6, 7, 8, 0, 6, 7, 8, 1, 6, 7, 8, 2, 6, 7, 8, 3, 6, 7,\n",
       "        8, 4, 6, 7, 8, 5, 6, 7, 8, 6, 6, 7, 8, 7, 6, 7, 8, 8, 6, 7, 8, 9,\n",
       "        6, 6, 7, 8, 0, 6, 7, 8, 1, 6, 7, 8, 2, 6, 7, 8, 3, 6, 7, 8, 4, 6,\n",
       "        7, 8, 5, 6, 7, 8, 6, 6, 7, 8, 7, 6, 7, 8, 8, 6, 7, 8, 9, 7, 6, 7,\n",
       "        8, 0, 6, 7, 8, 1, 6, 7, 8, 2, 6, 7, 8, 3, 6, 7, 8, 4, 6, 7, 8, 5,\n",
       "        6, 7, 8, 6, 6, 7, 8, 7, 6, 7, 8, 8, 6, 7, 8, 9, 8, 6, 7, 8, 0, 6,\n",
       "        7, 8, 1, 6, 7, 8, 2, 6, 7, 8, 3, 6, 7, 8, 4, 6, 7, 8, 5, 6, 7, 8,\n",
       "        6, 6, 7, 8, 7, 6, 7, 8, 8, 6, 7, 8, 9, 9, 9])]"
      ]
     },
     "execution_count": 200,
     "metadata": {},
     "output_type": "execute_result"
    }
   ],
   "source": [
    "ar99=[np.append(ar,i) for i in range(10)]\n",
    "ar99"
   ]
  },
  {
   "cell_type": "code",
   "execution_count": null,
   "metadata": {},
   "outputs": [],
   "source": []
  }
 ],
 "metadata": {
  "kernelspec": {
   "display_name": "Python 3",
   "language": "python",
   "name": "python3"
  },
  "language_info": {
   "codemirror_mode": {
    "name": "ipython",
    "version": 3
   },
   "file_extension": ".py",
   "mimetype": "text/x-python",
   "name": "python",
   "nbconvert_exporter": "python",
   "pygments_lexer": "ipython3",
   "version": "3.6.4"
  }
 },
 "nbformat": 4,
 "nbformat_minor": 2
}
